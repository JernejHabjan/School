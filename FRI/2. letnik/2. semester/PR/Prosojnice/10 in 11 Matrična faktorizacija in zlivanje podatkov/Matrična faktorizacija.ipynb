{
 "cells": [
  {
   "cell_type": "markdown",
   "metadata": {
    "slideshow": {
     "slide_type": "slide"
    }
   },
   "source": [
    "# Faktorizacija matrik"
   ]
  },
  {
   "cell_type": "markdown",
   "metadata": {
    "slideshow": {
     "slide_type": "fragment"
    }
   },
   "source": [
    "Osnovni cilj faktorizacije je izraziti matriko X kot produkt dveh matrik nižjega reda (k):\n",
    "\n",
    "    X ~ W * H\n",
    "\n",
    "Pri čemer je:\n",
    "\n",
    "    X reda (m, n)\n",
    "\n",
    "    W reda (m, k)\n",
    "    H reda (k, n)\n",
    "    \n",
    "Nižji red (k) predstavlja pričakovano število vzorcev v podatkih."
   ]
  },
  {
   "cell_type": "markdown",
   "metadata": {
    "slideshow": {
     "slide_type": "fragment"
    }
   },
   "source": [
    "## Primer - ekspresija genov\n",
    "\n",
    "<img src=\"http://127.0.0.1:8888/notebooks/slike/faktorizacija-primer.png\", width=700>"
   ]
  },
  {
   "cell_type": "markdown",
   "metadata": {
    "slideshow": {
     "slide_type": "slide"
    }
   },
   "source": [
    "Iščemo torej takšni matriki W in H, katerih produkt bo karseda dobro aproksimiral izvirni X.\n",
    "\n",
    "X ~ X_app = W * H "
   ]
  },
  {
   "cell_type": "markdown",
   "metadata": {
    "slideshow": {
     "slide_type": "fragment"
    }
   },
   "source": [
    "Začnimo s primerom (naključno generirani podatki X):"
   ]
  },
  {
   "cell_type": "code",
   "execution_count": 1,
   "metadata": {
    "collapsed": false,
    "slideshow": {
     "slide_type": "fragment"
    }
   },
   "outputs": [
    {
     "data": {
      "text/plain": [
       "array([[ 0.21381082,  0.00948609],\n",
       "       [ 0.77222321,  0.35733436],\n",
       "       [ 0.03124893,  0.5519926 ],\n",
       "       [ 0.83341421,  0.35948197],\n",
       "       [ 0.78357   ,  0.11266154],\n",
       "       [ 0.17109978,  0.07669748],\n",
       "       [ 0.71735885,  0.94300482],\n",
       "       [ 0.16732064,  0.26768403],\n",
       "       [ 0.54822884,  0.93092406],\n",
       "       [ 0.75105457,  0.48829814]])"
      ]
     },
     "execution_count": 1,
     "metadata": {},
     "output_type": "execute_result"
    }
   ],
   "source": [
    "import numpy as np\n",
    "G = np.random.rand(10, 2)\n",
    "G"
   ]
  },
  {
   "cell_type": "code",
   "execution_count": 2,
   "metadata": {
    "collapsed": false,
    "slideshow": {
     "slide_type": "fragment"
    }
   },
   "outputs": [
    {
     "data": {
      "text/plain": [
       "array([[ 0.04580505,  0.16849939,  0.01191761,  0.18160306,  0.16860447,\n",
       "         0.03731054,  0.16232451,  0.03831424,  0.12604809,  0.16521563],\n",
       "       [ 0.16849939,  0.72401653,  0.22137707,  0.77203705,  0.64534879,\n",
       "         0.15953387,  0.89092918,  0.22486158,  0.75600619,  0.75446748],\n",
       "       [ 0.01191761,  0.22137707,  0.30567233,  0.22447469,  0.08667406,\n",
       "         0.04768313,  0.54294838,  0.15298819,  0.53099476,  0.29300661],\n",
       "       [ 0.18160306,  0.77203705,  0.22447469,  0.82380653,  0.69353817,\n",
       "         0.17016835,  0.93685029,  0.23567498,  0.79155212,  0.80147393],\n",
       "       [ 0.16860447,  0.64534879,  0.08667406,  0.69353817,  0.62667458,\n",
       "         0.14270951,  0.66834126,  0.16126513,  0.53445501,  0.64351625],\n",
       "       [ 0.03731054,  0.15953387,  0.04768313,  0.17016835,  0.14270951,\n",
       "         0.03515764,  0.19506604,  0.04915922,  0.16520137,  0.16595651],\n",
       "       [ 0.16232451,  0.89092918,  0.54294838,  0.93685029,  0.66834126,\n",
       "         0.19506604,  1.40386181,  0.37245627,  1.27114269,  0.99924315],\n",
       "       [ 0.03831424,  0.22486158,  0.15298819,  0.23567498,  0.16126513,\n",
       "         0.04915922,  0.37245627,  0.09965093,  0.3409235 ,  0.25637654],\n",
       "       [ 0.12604809,  0.75600619,  0.53099476,  0.79155212,  0.53445501,\n",
       "         0.16520137,  1.27114269,  0.3409235 ,  1.16717446,  0.86631826],\n",
       "       [ 0.16521563,  0.75446748,  0.29300661,  0.80147393,  0.64351625,\n",
       "         0.16595651,  0.99924315,  0.25637654,  0.86631826,  0.80251804]])"
      ]
     },
     "execution_count": 2,
     "metadata": {},
     "output_type": "execute_result"
    }
   ],
   "source": [
    "X = G.dot(G.T)\n",
    "X"
   ]
  },
  {
   "cell_type": "markdown",
   "metadata": {
    "slideshow": {
     "slide_type": "slide"
    }
   },
   "source": [
    "Kako torej določiti W in H, da bo X ~ W * H?"
   ]
  },
  {
   "cell_type": "markdown",
   "metadata": {
    "slideshow": {
     "slide_type": "fragment"
    }
   },
   "source": [
    "Začnimo z naključnima matrikama nižjega reda:"
   ]
  },
  {
   "cell_type": "code",
   "execution_count": 3,
   "metadata": {
    "collapsed": false,
    "slideshow": {
     "slide_type": "fragment"
    }
   },
   "outputs": [],
   "source": [
    "k = 2 # red faktorizacije, pričakovano število vzorcev v podatkih\n",
    "\n",
    "m, n  = X.shape\n",
    "W     = np.random.rand(m, k)\n",
    "H     = np.random.rand(k, n)"
   ]
  },
  {
   "cell_type": "code",
   "execution_count": 4,
   "metadata": {
    "collapsed": false,
    "slideshow": {
     "slide_type": "fragment"
    }
   },
   "outputs": [
    {
     "data": {
      "text/plain": [
       "array([[ 0.34933672,  0.06023433],\n",
       "       [ 0.60606465,  0.67990942],\n",
       "       [ 0.2972438 ,  0.56089648],\n",
       "       [ 0.25393023,  0.25691046],\n",
       "       [ 0.75965251,  0.02115036],\n",
       "       [ 0.61711351,  0.51448533],\n",
       "       [ 0.98833306,  0.84340659],\n",
       "       [ 0.94017607,  0.98065244],\n",
       "       [ 0.02479218,  0.76359887],\n",
       "       [ 0.30903088,  0.65583998]])"
      ]
     },
     "execution_count": 4,
     "metadata": {},
     "output_type": "execute_result"
    }
   ],
   "source": [
    "W"
   ]
  },
  {
   "cell_type": "code",
   "execution_count": 5,
   "metadata": {
    "collapsed": false
   },
   "outputs": [
    {
     "data": {
      "text/plain": [
       "array([[ 0.4763206 ,  0.28677701,  0.95133682,  0.87076167,  0.6754595 ,\n",
       "         0.70104067,  0.86729464,  0.36462253,  0.88728992,  0.27155853],\n",
       "       [ 0.52710875,  0.92365904,  0.90862696,  0.61327978,  0.89416723,\n",
       "         0.2366802 ,  0.31938903,  0.15417188,  0.23323164,  0.12912498]])"
      ]
     },
     "execution_count": 5,
     "metadata": {},
     "output_type": "execute_result"
    }
   ],
   "source": [
    "H"
   ]
  },
  {
   "cell_type": "markdown",
   "metadata": {
    "slideshow": {
     "slide_type": "slide"
    }
   },
   "source": [
    "Za posamezno celico [i, j] pogledamo odstopanje trenutne vrednosti celice v X_app od prave vrednosti celice v X."
   ]
  },
  {
   "cell_type": "code",
   "execution_count": 6,
   "metadata": {
    "collapsed": false,
    "slideshow": {
     "slide_type": "fragment"
    }
   },
   "outputs": [
    {
     "name": "stdout",
     "output_type": "stream",
     "text": [
      "celica [0,0]: 0.0458050543144 0.198146320435 -0.15234126612\n",
      "celotna napaka: 5.20463549416\n"
     ]
    }
   ],
   "source": [
    "X_app = W.dot(H)\n",
    "dif = X - X_app\n",
    "print \"celica [0,0]:\", X[0,0], X_app[0,0], dif[0,0]\n",
    "print \"celotna napaka:\", np.sqrt(((dif**2).sum()))"
   ]
  },
  {
   "cell_type": "markdown",
   "metadata": {
    "slideshow": {
     "slide_type": "fragment"
    }
   },
   "source": [
    "Postopno ju popravlja\n",
    "mo z določenimi pravili.\n",
    "\n",
    "Najprej ugotovimo razlike (napake):"
   ]
  },
  {
   "cell_type": "code",
   "execution_count": 7,
   "metadata": {
    "collapsed": false,
    "slideshow": {
     "slide_type": "fragment"
    }
   },
   "outputs": [],
   "source": [
    "dw = np.zeros((m, k))\n",
    "dh = np.zeros((k, n))\n",
    "for i, j in zip(*(X.nonzero())):\n",
    "    for f in xrange(k):\n",
    "        dw[i, f]    = dw[i, f] + (X[i, j] - W[i, :].dot(H[:, j])) * H[f, j]\n",
    "        dh[f, j]    = dh[f, j] + (X[i, j] - W[i, :].dot(H[:, j])) * W[i, f]"
   ]
  },
  {
   "cell_type": "markdown",
   "metadata": {},
   "source": [
    "Nato ustrezno popravimo matriki W in H:"
   ]
  },
  {
   "cell_type": "code",
   "execution_count": 8,
   "metadata": {
    "collapsed": true,
    "slideshow": {
     "slide_type": "fragment"
    }
   },
   "outputs": [],
   "source": [
    "eta = 0.02\n",
    "W = W + eta * dw\n",
    "H = H + eta * dh\n",
    "W = W * (W > 0)\n",
    "H = H * (H > 0)"
   ]
  },
  {
   "cell_type": "markdown",
   "metadata": {
    "slideshow": {
     "slide_type": "fragment"
    }
   },
   "source": [
    "Postopek ponavljamo dokler ni\n",
    "\n",
    "X_app = W * H dovolj podobna pravemu X."
   ]
  },
  {
   "cell_type": "code",
   "execution_count": 9,
   "metadata": {
    "collapsed": false,
    "slideshow": {
     "slide_type": "fragment"
    }
   },
   "outputs": [
    {
     "name": "stdout",
     "output_type": "stream",
     "text": [
      "celica [0,0]: 0.0458050543144 0.159042814945 -0.113237760631\n",
      "celotna napaka: 4.35424510542\n"
     ]
    }
   ],
   "source": [
    "X_app = W.dot(H)\n",
    "dif = X - X_app\n",
    "print \"celica [0,0]:\", X[0,0], X_app[0,0], dif[0,0]\n",
    "print \"celotna napaka:\", np.sqrt(((dif**2).sum()))"
   ]
  },
  {
   "cell_type": "markdown",
   "metadata": {
    "slideshow": {
     "slide_type": "slide"
    }
   },
   "source": [
    "# Algoritem za faktorizacijo - gradientni spust"
   ]
  },
  {
   "cell_type": "code",
   "execution_count": 10,
   "metadata": {
    "collapsed": true,
    "slideshow": {
     "slide_type": "fragment"
    }
   },
   "outputs": [],
   "source": [
    "from itertools import combinations, product\n",
    "import numpy as np\n",
    "import sys\n",
    "\n",
    "def pgdnmf(X, rank, max_iter=100, tol=1e-5, eta=1e-2):\n",
    "    \"\"\"\n",
    "        NMF using projected gradient descent.\n",
    "        Minimize || X - WH ||_F, subject to W, H >= 0.\n",
    "\n",
    "        :param X:\n",
    "            Data matrix.\n",
    "        :param rank\n",
    "            Maximal rank of the model (W, H).\n",
    "        :param max_iter\n",
    "            Maximum number of iterations.\n",
    "\n",
    "        :return\n",
    "            Data model W, H.\n",
    "    \"\"\"\n",
    "    m, n  = X.shape\n",
    "    W     = np.random.rand(m, rank)\n",
    "    H     = np.random.rand(rank, n)\n",
    "    itr   = 0\n",
    "    error = float(\"inf\")\n",
    "\n",
    "    known = X.nonzero()\n",
    "\n",
    "    while error > tol and itr < max_iter:\n",
    "        error = 0\n",
    "        if itr % 10 == 0:\n",
    "            sys.stdout.write(\"%s/%s\\r\" % (itr, max_iter))\n",
    "            sys.stdout.flush()\n",
    "\n",
    "        dw = np.zeros((m, rank))\n",
    "        dh = np.zeros((rank, n))\n",
    "        for i, j in zip(*known):\n",
    "            for k in xrange(rank):\n",
    "                dw[i, k]    = dw[i, k] + (X[i, j] - W[i, :].dot(H[:, j])) * H[k, j]\n",
    "                dh[k, j]    = dh[k, j] + (X[i, j] - W[i, :].dot(H[:, j])) * W[i, k]       \n",
    "            error += (X[i, j] - W[i, :].dot(H[:, j]))**2\n",
    "\n",
    "        W = W + eta * dw\n",
    "        H = H + eta * dh\n",
    "        W = W * (W > 0)\n",
    "        H = H * (H > 0)\n",
    "        itr += 1\n",
    "\n",
    "    return W, H"
   ]
  },
  {
   "cell_type": "markdown",
   "metadata": {
    "slideshow": {
     "slide_type": "slide"
    }
   },
   "source": [
    "## Rezultat faktorizacije na prejšnjem primeru"
   ]
  },
  {
   "cell_type": "code",
   "execution_count": 11,
   "metadata": {
    "collapsed": false,
    "slideshow": {
     "slide_type": "fragment"
    }
   },
   "outputs": [
    {
     "name": "stdout",
     "output_type": "stream",
     "text": []
    }
   ],
   "source": [
    "W, H = pgdnmf(X, rank=3)"
   ]
  },
  {
   "cell_type": "code",
   "execution_count": 12,
   "metadata": {
    "collapsed": false,
    "scrolled": true,
    "slideshow": {
     "slide_type": "fragment"
    }
   },
   "outputs": [
    {
     "name": "stdout",
     "output_type": "stream",
     "text": [
      "celica [0,0]: 0.0458050543144 0.00658480778938 0.0392202465251\n",
      "celotna napaka: 0.73254455696\n",
      "0.73254455696\n"
     ]
    }
   ],
   "source": [
    "X_app = W.dot(H)\n",
    "dif = X - X_app\n",
    "print \"celica [0,0]:\", X[0,0], X_app[0,0], dif[0,0]\n",
    "print \"celotna napaka:\", np.sqrt(((dif**2).sum()))\n",
    "print np.linalg.norm(dif, ord=\"fro\")"
   ]
  },
  {
   "cell_type": "markdown",
   "metadata": {
    "slideshow": {
     "slide_type": "slide"
    }
   },
   "source": [
    "## Katero vrednost k izbrati?"
   ]
  },
  {
   "cell_type": "code",
   "execution_count": 14,
   "metadata": {
    "collapsed": false,
    "slideshow": {
     "slide_type": "fragment"
    }
   },
   "outputs": [
    {
     "name": "stdout",
     "output_type": "stream",
     "text": []
    }
   ],
   "source": [
    "# koda se izvaja zelo dolgo časa (~10 min), predvsem zaradi notranje zanke\n",
    "pts = []\n",
    "for k in range(1, 20):\n",
    "    # ponovimo večkrat, da se izognemo lokalnemu minimumu\n",
    "    es = []\n",
    "    for _ in range(25):\n",
    "        W, H = pgdnmf(X, rank=k, max_iter=300)\n",
    "        X_app = W.dot(H)\n",
    "        e = np.linalg.norm(X - X_app, ord=\"fro\")\n",
    "        es.append(e)\n",
    "    pts.append((k, es))"
   ]
  },
  {
   "cell_type": "code",
   "execution_count": 15,
   "metadata": {
    "collapsed": false,
    "scrolled": true,
    "slideshow": {
     "slide_type": "fragment"
    }
   },
   "outputs": [
    {
     "data": {
      "image/png": "[encoded data removed]",
      "text/plain": [
       "<matplotlib.figure.Figure at 0x10b242290>"
      ]
     },
     "metadata": {},
     "output_type": "display_data"
    }
   ],
   "source": [
    "import pylab\n",
    "%matplotlib inline\n",
    "\n",
    "xs, ys = zip(*pts)\n",
    "pylab.boxplot(ys, positions=xs)\n",
    "pylab.plot(xs, np.amin(ys, axis=1));"
   ]
  },
  {
   "cell_type": "markdown",
   "metadata": {
    "slideshow": {
     "slide_type": "slide"
    }
   },
   "source": [
    "## Realen primer - podatki iris"
   ]
  },
  {
   "cell_type": "code",
   "execution_count": 16,
   "metadata": {
    "collapsed": false,
    "slideshow": {
     "slide_type": "fragment"
    }
   },
   "outputs": [
    {
     "name": "stdout",
     "output_type": "stream",
     "text": [
      "Dimenzije tabel: X = (150, 4), c = (150,)\n"
     ]
    }
   ],
   "source": [
    "import Orange\n",
    "data = Orange.data.Table(\"iris\")\n",
    "#imputer = Orange.feature.imputation.ModelConstructor()\n",
    "#imputer.learner_continuous = Orange.regression.mean.MeanLearner()\n",
    "#imputer.learner_discrete = Orange.classification.bayes.NaiveLearner()\n",
    "#imputer = imputer(data)\n",
    "#data = imputer(data)\n",
    "X, c, _ = data.to_numpy()\n",
    "print \"Dimenzije tabel: X = %s, c = %s\" % (X.shape, c.shape)"
   ]
  },
  {
   "cell_type": "markdown",
   "metadata": {},
   "source": [
    "Če podatkov preveč, vzemimo le podmnožico podatkov."
   ]
  },
  {
   "cell_type": "code",
   "execution_count": 17,
   "metadata": {
    "collapsed": false
   },
   "outputs": [
    {
     "name": "stdout",
     "output_type": "stream",
     "text": [
      "Dimenzije tabel: X = (120, 4), c = (120,)\n"
     ]
    }
   ],
   "source": [
    "sub_i = sorted(np.random.choice(X.shape[0], 120, replace=False))\n",
    "X = X[sub_i,:]\n",
    "c = c[sub_i]\n",
    "print \"Dimenzije tabel: X = %s, c = %s\" % (X.shape, c.shape)"
   ]
  },
  {
   "cell_type": "code",
   "execution_count": 18,
   "metadata": {
    "collapsed": false,
    "scrolled": true,
    "slideshow": {
     "slide_type": "fragment"
    }
   },
   "outputs": [
    {
     "name": "stdout",
     "output_type": "stream",
     "text": [
      "Residual error:  3.4321756678\n"
     ]
    }
   ],
   "source": [
    "k = 2\n",
    "W, H = pgdnmf(X, rank=k, max_iter=200)\n",
    "print \"Residual error: \", np.linalg.norm(X - W.dot(H), ord=\"fro\")"
   ]
  },
  {
   "cell_type": "markdown",
   "metadata": {
    "collapsed": true,
    "slideshow": {
     "slide_type": "slide"
    }
   },
   "source": [
    "Izrišimo podatke (atribute, razred) ter faktorje (W in H)."
   ]
  },
  {
   "cell_type": "code",
   "execution_count": 19,
   "metadata": {
    "collapsed": false,
    "slideshow": {
     "slide_type": "fragment"
    }
   },
   "outputs": [
    {
     "data": {
      "image/png": "[encoded data removed]",
      "text/plain": [
       "<matplotlib.figure.Figure at 0x10c6fd650>"
      ]
     },
     "metadata": {},
     "output_type": "display_data"
    }
   ],
   "source": [
    "pylab.figure(figsize=(10,10))\n",
    "pylab.subplot(1, 4, 1)\n",
    "pylab.title(\"X\")\n",
    "pylab.imshow(X,  aspect=0.2, cmap=pylab.cm.Greys, interpolation='none'); pylab.xticks([]); pylab.yticks([])\n",
    "\n",
    "pylab.subplot(1, 4, 2)\n",
    "pylab.title(\"c\")\n",
    "pylab.imshow(np.matrix(c).T,  aspect=0.2, cmap=pylab.cm.Greys); pylab.xticks([]); pylab.yticks([])\n",
    "\n",
    "vmin = min(W.min(), W.min())\n",
    "vmax = max(W.max(), H.max())\n",
    "\n",
    "pylab.subplot(1, 4, 3)\n",
    "pylab.title(\"W\")\n",
    "pylab.imshow(W, cmap=pylab.cm.Greys, aspect=0.2, vmin=vmin, vmax=vmax, interpolation='none'); pylab.xticks([]); pylab.yticks([])\n",
    "\n",
    "pylab.subplot(1, 4, 4)\n",
    "pylab.title(\"H\")\n",
    "pylab.imshow(H, cmap=pylab.cm.Greys, aspect=0.8, vmin=vmin, vmax=vmax, interpolation='none'); pylab.xticks([]); pylab.yticks([]);"
   ]
  },
  {
   "cell_type": "markdown",
   "metadata": {
    "slideshow": {
     "slide_type": "fragment"
    }
   },
   "source": [
    "Kateri faktorji so povezani s katerimi atributi?"
   ]
  },
  {
   "cell_type": "code",
   "execution_count": 20,
   "metadata": {
    "collapsed": false,
    "slideshow": {
     "slide_type": "fragment"
    }
   },
   "outputs": [
    {
     "name": "stdout",
     "output_type": "stream",
     "text": [
      "(0) sepal length\n",
      "(1) sepal width\n",
      "(2) petal length\n",
      "(3) petal width\n"
     ]
    }
   ],
   "source": [
    "for i, a in enumerate(data.domain.attributes):\n",
    "    print \"(%s) %s\" % (i, a.name)"
   ]
  },
  {
   "cell_type": "markdown",
   "metadata": {
    "slideshow": {
     "slide_type": "slide"
    }
   },
   "source": [
    "Izračunajmo aproksimacijo X_apr, razliko do pravega X in vse izrišimo."
   ]
  },
  {
   "cell_type": "code",
   "execution_count": 21,
   "metadata": {
    "collapsed": false,
    "slideshow": {
     "slide_type": "fragment"
    }
   },
   "outputs": [
    {
     "name": "stdout",
     "output_type": "stream",
     "text": [
      "Največja razlika: 0.560882611475\n"
     ]
    }
   ],
   "source": [
    "X_apr = W.dot(H)\n",
    "X_dif = abs(X - X_apr)\n",
    "print \"Največja razlika:\", X_dif.max()"
   ]
  },
  {
   "cell_type": "code",
   "execution_count": 22,
   "metadata": {
    "collapsed": false,
    "slideshow": {
     "slide_type": "fragment"
    }
   },
   "outputs": [
    {
     "data": {
      "image/png": "[encoded data removed]",
      "text/plain": [
       "<matplotlib.figure.Figure at 0x10c68c7d0>"
      ]
     },
     "metadata": {},
     "output_type": "display_data"
    }
   ],
   "source": [
    "vmin = min(X.min(), X_apr.min())\n",
    "vmax = max(X.max(), X_apr.max())\n",
    "\n",
    "pylab.figure(figsize=(10,10))\n",
    "pylab.subplot(1, 4, 1)\n",
    "pylab.title(\"X\")\n",
    "pylab.imshow(X, cmap=pylab.cm.Greys, aspect=0.2, vmin=vmin, vmax=vmax, interpolation='none'); pylab.xticks([]); pylab.yticks([])\n",
    "\n",
    "pylab.subplot(1, 4, 2)\n",
    "pylab.title(\"X_apr\")\n",
    "pylab.imshow(X_apr, cmap=pylab.cm.Greys, aspect=0.2, vmin=vmin, vmax=vmax, interpolation='none'); pylab.xticks([]); pylab.yticks([])\n",
    "\n",
    "pylab.subplot(1, 4, 3)\n",
    "pylab.title(\"X_dif = X - X_apr\")\n",
    "pylab.imshow(X_dif, cmap=pylab.cm.Greys, aspect=0.2, vmin=vmin, vmax=vmax, interpolation='none'); pylab.xticks([]); pylab.yticks([])\n",
    "\n",
    "pylab.subplot(1, 4, 4)\n",
    "pylab.title(\"X_dif = X - X_apr\\n(normaliziran izris)\")\n",
    "pylab.imshow(X_dif, cmap=pylab.cm.Greys, aspect=0.2, vmin=vmin, vmax=vmax/10, interpolation='none'); pylab.xticks([]); pylab.yticks([]);"
   ]
  },
  {
   "cell_type": "markdown",
   "metadata": {
    "collapsed": false,
    "slideshow": {
     "slide_type": "slide"
    }
   },
   "source": [
    "## Izris primerov in atributov v prostoru faktorjev"
   ]
  },
  {
   "cell_type": "code",
   "execution_count": 23,
   "metadata": {
    "collapsed": false,
    "slideshow": {
     "slide_type": "fragment"
    }
   },
   "outputs": [
    {
     "data": {
      "image/png": "[encoded data removed]",
      "text/plain": [
       "<matplotlib.figure.Figure at 0x10c6f4e50>"
      ]
     },
     "metadata": {},
     "output_type": "display_data"
    }
   ],
   "source": [
    "pylab.figure(figsize=(20,20))\n",
    "for f1 in range(k):\n",
    "    for f2 in range(k):\n",
    "        pylab.subplot(k, k, 1+f1*k+f2)\n",
    "        pylab.scatter(W[:,f1], W[:,f2], c=c, label='primeri', edgecolor='none')\n",
    "        pylab.scatter(H[f1,:], H[f2,:], c='black', label='atributi', edgecolor='none', s=80.0)\n",
    "        pylab.xlabel(\"faktor %s\" % f1)\n",
    "        pylab.ylabel(\"faktor %s\" % f2)\n",
    "        [pylab.text(x-0.2, y+0.2, \"(%s) %s\" % (i, data.domain.attributes[i].name)) for i, (x, y) in enumerate(zip(H[f1,:], H[f2,:]))]"
   ]
  },
  {
   "cell_type": "markdown",
   "metadata": {
    "collapsed": false,
    "slideshow": {
     "slide_type": "fragment"
    }
   },
   "source": [
    "Kateri faktorji najboljše ločujejo razrede?<br />\n",
    "Pozor, razred ni bil uporabljen pri faktorizaciji."
   ]
  },
  {
   "cell_type": "markdown",
   "metadata": {
    "slideshow": {
     "slide_type": "slide"
    }
   },
   "source": [
    "## Faktorji kot novi atributi\n",
    "Za gradnjo napovednega modela lahko uporabimo aproksimirano matriko, saj naj bi iz nje bil odstranjen \"šum\".<br />\n",
    "\n",
    "Napovedni lahko zgradimo iz matrike W, ki primere preslika v prostor faktorjev."
   ]
  },
  {
   "cell_type": "code",
   "execution_count": 24,
   "metadata": {
    "collapsed": false,
    "slideshow": {
     "slide_type": "fragment"
    }
   },
   "outputs": [
    {
     "name": "stdout",
     "output_type": "stream",
     "text": [
      "[5.1, 3.5, 1.4, 0.2, 'Iris-setosa']\n",
      "[0.072, 0.973, 'Iris-setosa']\n"
     ]
    }
   ],
   "source": [
    "_, p = W.shape  # število atributov\n",
    "features = [Orange.feature.Continuous(\"X%i\" % (i + 1)) for i in range(p)]\n",
    "class_var = Orange.feature.Discrete(\"C\", values=data.domain.class_var.values)  # razred\n",
    "domain = Orange.data.Domain(features, class_var)\n",
    "data_faktorji = Orange.data.Table(domain, np.column_stack((W, c)))\n",
    "\n",
    "print data[0]\n",
    "print data_faktorji[0]"
   ]
  },
  {
   "cell_type": "markdown",
   "metadata": {
    "slideshow": {
     "slide_type": "fragment"
    }
   },
   "source": [
    "Izvedimo prečno preverjanje na obeh."
   ]
  },
  {
   "cell_type": "code",
   "execution_count": 25,
   "metadata": {
    "collapsed": false,
    "slideshow": {
     "slide_type": "fragment"
    }
   },
   "outputs": [
    {
     "name": "stdout",
     "output_type": "stream",
     "text": [
      "data\n",
      "     naive: CA= 0.920, AUC= 0.990\n",
      "      tree: CA= 0.953, AUC= 0.977\n",
      "       kNN: CA= 0.960, AUC= 0.985\n",
      "       sVM: CA= 0.960, AUC= 0.999\n",
      "  majority: CA= 0.333, AUC= 0.500\n",
      "\n",
      "data_faktorji\n",
      "     naive: CA= 0.958, AUC= 0.991\n",
      "      tree: CA= 0.917, AUC= 0.957\n",
      "       kNN: CA= 0.925, AUC= 0.988\n",
      "       sVM: CA= 0.950, AUC= 0.992\n",
      "  majority: CA= 0.333, AUC= 0.500\n",
      "\n"
     ]
    }
   ],
   "source": [
    "learners = [Orange.classification.bayes.NaiveLearner(),\n",
    "            Orange.classification.tree.TreeLearner(),\n",
    "            Orange.classification.knn.kNNLearner(k=3),\n",
    "            Orange.classification.svm.SVMLearner(),\n",
    "            Orange.classification.majority.MajorityLearner()]\n",
    "\n",
    "print \"data\"\n",
    "cv = Orange.evaluation.testing.cross_validation(learners, data, folds=5)\n",
    "for i, score in enumerate(learners):\n",
    "    print \"%10s: CA= %.3f, AUC= %0.3f\" % (learners[i].name, Orange.evaluation.scoring.CA(cv)[i], Orange.evaluation.scoring.AUC(cv)[i])\n",
    "print\n",
    "\n",
    "print \"data_faktorji\"\n",
    "cv = Orange.evaluation.testing.cross_validation(learners, data_faktorji, folds=5)\n",
    "for i, score in enumerate(learners):\n",
    "    print \"%10s: CA= %.3f, AUC= %0.3f\" % (learners[i].name, Orange.evaluation.scoring.CA(cv)[i], Orange.evaluation.scoring.AUC(cv)[i])\n",
    "print"
   ]
  },
  {
   "cell_type": "markdown",
   "metadata": {
    "slideshow": {
     "slide_type": "slide"
    }
   },
   "source": [
    "# Napovedovanje vrednosti - testni podatki v matriki\n",
    "Vrednosti v celicah, ki bistveno odstopajo med pravimi podatki in aproksimiranimi, so potencialne nove napovedi."
   ]
  },
  {
   "cell_type": "code",
   "execution_count": 26,
   "metadata": {
    "collapsed": false,
    "slideshow": {
     "slide_type": "fragment"
    }
   },
   "outputs": [
    {
     "name": "stdout",
     "output_type": "stream",
     "text": [
      "trenutna vrednost celice, ki želimo napovedati: 0.0\n",
      "dejanska vrednost: 5.09999990463\n"
     ]
    }
   ],
   "source": [
    "mis_X = np.copy(X)\n",
    "mis_X[0,0] = 0 # postavimo na 0\n",
    "print \"trenutna vrednost celice, ki želimo napovedati:\", mis_X[0,0]\n",
    "print \"dejanska vrednost:\", X[0,0] # dejanska vrednost"
   ]
  },
  {
   "cell_type": "code",
   "execution_count": 27,
   "metadata": {
    "collapsed": false,
    "slideshow": {
     "slide_type": "fragment"
    }
   },
   "outputs": [
    {
     "name": "stdout",
     "output_type": "stream",
     "text": [
      "napovedana vrednost: 5.0341782975\n"
     ]
    }
   ],
   "source": [
    "k = 2\n",
    "W, H = pgdnmf(mis_X, rank=k, max_iter=200)\n",
    "X_mis_apr = W.dot(H)\n",
    "print \"napovedana vrednost:\", X_mis_apr[0,0]"
   ]
  },
  {
   "cell_type": "markdown",
   "metadata": {
    "slideshow": {
     "slide_type": "fragment"
    }
   },
   "source": [
    "Če primerjamo vrednosti aproksimacije in prave vrednosti, hitro odkrijemo \"težavne\" primere."
   ]
  },
  {
   "cell_type": "code",
   "execution_count": 28,
   "metadata": {
    "collapsed": false,
    "slideshow": {
     "slide_type": "fragment"
    }
   },
   "outputs": [
    {
     "name": "stdout",
     "output_type": "stream",
     "text": [
      " 95 (2.0): [ 5.80000019  2.79999995  5.0999999   2.4000001 ]\n",
      "           [ 5.99685951  2.50503159  5.21308409  1.83920666]\n",
      "\n",
      "109 (2.0): [ 6.30000019  3.4000001   5.5999999   2.4000001 ]\n",
      "           [ 6.67604095  2.89836643  5.56963215  1.94278002]\n",
      "\n",
      "107 (2.0): [ 6.0999999   2.5999999   5.5999999   1.39999998]\n",
      "           [ 6.16408241  2.57146687  5.36574252  1.89375816]\n",
      "\n",
      "118 (2.0): [ 6.19999981  3.4000001   5.4000001   2.29999995]\n",
      "           [ 6.57051669  2.90687168  5.36571763  1.86017971]\n",
      "\n",
      "114 (2.0): [ 6.69999981  3.29999995  5.69999981  2.5       ]\n",
      "           [ 6.91071413  2.99593822  5.77460862  2.01518951]\n",
      "\n"
     ]
    }
   ],
   "source": [
    "W, H = pgdnmf(X, rank=k, max_iter=200)\n",
    "X_apr = W.dot(H)\n",
    "\n",
    "X_dif = abs(X - X_apr)\n",
    "# vrstice (primeri) z največjimi odstopanji\n",
    "max_dif_rows = sorted([(max(r), ri) for ri, r in enumerate(X_dif)], reverse=True)\n",
    "for _, ri in max_dif_rows[:5]:\n",
    "    print \"%3s (%s): %s\" % (ri, c[ri], X[ri])\n",
    "    print \"           %s\" % (X_apr[ri])\n",
    "    print"
   ]
  },
  {
   "cell_type": "markdown",
   "metadata": {
    "slideshow": {
     "slide_type": "slide"
    }
   },
   "source": [
    "# Napovedovanje vrednosti - novi primer, izven matrike\n",
    "Nove primere lahko projeciramo v prostor faktorjev, in potem naprej sklepamo o njegovih drugih lastnostih (recimo, razredu ali drugih atributih).\n",
    "\n",
    "    W = (X * H.T) / (W * H * H.T)\n",
    "\n",
    "Spomnimo se:\n",
    "    W je reda (m, k)\n",
    "    H je reda (k, n)\n",
    "    \n",
    "    X je reda (m, n)\n",
    "    \n",
    "Torej, v zgornjem izrazu delimo matriki, ki sta reda:\n",
    "\n",
    "    X * H.T = (m, n) * (n, k) => (m, k)\n",
    "    W * H * H.T = (m, k) * (k, n) * (n, k) => (m, k)\n",
    "    \n",
    "Dimenzije se torej ujemajo z dimenzijami W (m, k)."
   ]
  },
  {
   "cell_type": "code",
   "execution_count": 29,
   "metadata": {
    "collapsed": true,
    "slideshow": {
     "slide_type": "fragment"
    }
   },
   "outputs": [],
   "source": [
    "def nmf_fix(X, H, k, max_iter=100):\n",
    "    \"\"\"\n",
    "    :param X: matrix with descriptions of test examples.\n",
    "    :param H: matrix for a pre-built model.\n",
    "    :param k: Factorization rank\n",
    "    :param max_iter: Max. number of iterations.\n",
    "    :return:\n",
    "        W: A predicted row clustering matrix.\n",
    "    \"\"\"\n",
    "    m, N = X.shape\n",
    "    W = np.random.rand(m, k)\n",
    "\n",
    "    for itr in range(max_iter):\n",
    "        enum = X.dot(H.T)\n",
    "        denom = W.dot(H.dot(H.T))\n",
    "        W = np.nan_to_num(W * enum/denom)\n",
    "\n",
    "    return W"
   ]
  },
  {
   "cell_type": "code",
   "execution_count": 30,
   "metadata": {
    "collapsed": false,
    "slideshow": {
     "slide_type": "fragment"
    }
   },
   "outputs": [
    {
     "name": "stdout",
     "output_type": "stream",
     "text": [
      "[[ 0.95395168  0.06238474]\n",
      " [ 0.86011554  0.09837942]]\n",
      "[[ 0.95434173  0.06191332]\n",
      " [ 0.86045634  0.09796664]]\n"
     ]
    }
   ],
   "source": [
    "W_example = nmf_fix(X[0:2,:], H, k, max_iter=1000)\n",
    "\n",
    "print W_example\n",
    "print W[0:2]"
   ]
  },
  {
   "cell_type": "markdown",
   "metadata": {
    "slideshow": {
     "slide_type": "slide"
    }
   },
   "source": [
    "# Hkratna faktorizacija več matrik -> zlivanje podatkov"
   ]
  },
  {
   "cell_type": "markdown",
   "metadata": {
    "slideshow": {
     "slide_type": "fragment"
    }
   },
   "source": [
    "Osnovni cilj faktorizacije dopolnimo na več matrik X_i, ki jih izrazimo kot produkt dveh matrik nižjega reda (k):\n",
    "\n",
    "    X_i ~ W * H_i\n",
    "\n",
    "Pri čemer je:\n",
    "\n",
    "    X_i reda (m, n_i)\n",
    "\n",
    "    W reda (m, k)\n",
    "    H_i reda (k, n_i)\n",
    "    \n",
    "Nižji red (k) predstavlja pričakovano število vzorcev v podatkih.\n",
    "Matrika W je skupna, in preko nje prihaja do \"zlivanja\" podatkov med matrikami X_i."
   ]
  },
  {
   "cell_type": "markdown",
   "metadata": {
    "slideshow": {
     "slide_type": "fragment"
    }
   },
   "source": [
    "## Primer zlivanja podatkov o interakciji protein-RNA\n",
    "\n",
    "<img src=\"http://127.0.0.1:8888/notebooks/slike/faktorizacija-zlivanje-shema.png\", width=900>"
   ]
  },
  {
   "cell_type": "code",
   "execution_count": null,
   "metadata": {
    "collapsed": true
   },
   "outputs": [],
   "source": []
  }
 ],
 "metadata": {
  "celltoolbar": "Slideshow",
  "kernelspec": {
   "display_name": "Python 2",
   "language": "python",
   "name": "python2"
  },
  "language_info": {
   "codemirror_mode": {
    "name": "ipython",
    "version": 2
   },
   "file_extension": ".py",
   "mimetype": "text/x-python",
   "name": "python",
   "nbconvert_exporter": "python",
   "pygments_lexer": "ipython2",
   "version": "2.7.9"
  }
 },
 "nbformat": 4,
 "nbformat_minor": 0
}
