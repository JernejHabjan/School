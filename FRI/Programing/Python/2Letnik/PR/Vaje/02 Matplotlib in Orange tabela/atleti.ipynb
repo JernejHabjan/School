{
 "cells": [
  {
   "cell_type": "markdown",
   "metadata": {},
   "source": [
    "<img width=300 src=\"logo.jpg\"/>"
   ]
  },
  {
   "cell_type": "markdown",
   "metadata": {},
   "source": [
    "# Zimske olimpijske igre, Soči 2014"
   ]
  },
  {
   "cell_type": "markdown",
   "metadata": {},
   "source": [
    "Zadnjič smo si ogledali osnove shranjevanje in predstavitve numeričnih podatkov v jeziku Python. Spoznali smo knjižnici `numpy` za numerično računanje in `matplotlib` za grafično predstavitev podatkov. \n",
    "\n",
    "Namena današnje vaje sta:\n",
    "<ol>\n",
    "    <li> uvod v tabelarično predstavitev podatkov (atribut-vrednost) v paketu Orange</li>\n",
    "    <li> preizkus nekaterih pogostih načinov grafičnega prikaza podatkov</li>\n",
    "<ol>"
   ]
  },
  {
   "cell_type": "code",
   "execution_count": 1,
   "metadata": {
    "collapsed": false
   },
   "outputs": [],
   "source": [
    "from numpy import *\n",
    "\n",
    "% matplotlib inline\n",
    "import matplotlib.pyplot as plt\n",
    "# plt.style.use('ggplot')  # Odkomentiraj za drugačen stil prikaza"
   ]
  },
  {
   "cell_type": "markdown",
   "metadata": {},
   "source": [
    "## Predstavitev podatkov"
   ]
  },
  {
   "cell_type": "markdown",
   "metadata": {},
   "source": [
    "Tokrat imamo opravka z športniki, ki so nastopali na Zimskih olimpijskih igrah v ruskem letovišču Soči ob Črnem morju leta 2014. Za vsakega nastopajočega športnika so na voljo naslednji podatke - atribute:\n",
    "<ul>\n",
    "<li>Ime in priimek,</li>\n",
    "<li>starost v letih,</li>\n",
    "<li>datum rojstva,</li>\n",
    "<li>spol,</li>\n",
    "<li>telesna višina,</li>\n",
    "<li>telesna teža,</li>\n",
    "<li>št. osvojenih zlatih medalj,</li>\n",
    "<li>št. osvojenih srebrnih medalj,</li>\n",
    "<li>št. osvojenih bronastih medalj,</li>\n",
    "<li>št. vseh osvojenih medalj,</li>\n",
    "<li>športna panoga,</li>\n",
    "<li>država, katero zastopa.</li>\n",
    "</ul>\n",
    "\n",
    "<font color=\"green\">Razmisli.</font> S kakšnim podatkovnim tipom bi predstavil/a vsakega od atributov?\n",
    "\n",
    "<br/>\n",
    "\n",
    "Do sedaj smo spoznali načine za shranjevanje numeričnih podatkov, kot so cela in decimalna števila. Očitno pa je ne bomo vedno tako lahko odnesli - podatki, kot so država ter naziv tekmovalca niso dovzetni za numerično predstavitev. Pomagali si bomo s knjižnjico <i>Orange</i>, ki skupaj s  števili hrani naslednje tipe podatkov:\n",
    "\n",
    "<ul>\n",
    "<li><b>[c]ontinuous</b> ali zvezni atributi, s katerimi predstavimo številske podatke (tudi cela števila),  </li>\n",
    "<li><b>[d]iscrete</b> ali diskretni atributi imajo zalogo vrednosti iz končne množice. Npr. spol je element množice `{moški, ženska}` ali okusi sladoleda `{čokolada, vanilija, jagoda}`. Pomni, da za razliko od števil med elementi takih množic ne obstaja urejen vrstni red.</li>\n",
    "<li><b>[s]tring</b> ali niz znakov, hrani nize znakov poljubne (končne) dolžine.</li>\n",
    "</ul>\n",
    "\n",
    "<font color=\"green\">Ponovno razmisli.</font> Katerega od treh naštetih tipov podatkov bi uporabil za vsakega od atributov športnikov? Rešitev najdeš, če si ogledaš prvih nekaj vrstic datoteke `athletes.tab`.\n",
    "\n",
    "<br/>\n",
    "<br/>"
   ]
  },
  {
   "cell_type": "markdown",
   "metadata": {},
   "source": [
    "## Programski paket Orange"
   ]
  },
  {
   "cell_type": "markdown",
   "metadata": {},
   "source": [
    "Podatke naložimo kot objekt tabela - `Table`. Podatkovni tipi so določeni v datoteki.  "
   ]
  },
  {
   "cell_type": "code",
   "execution_count": 2,
   "metadata": {
    "collapsed": false
   },
   "outputs": [
    {
     "ename": "ModuleNotFoundError",
     "evalue": "No module named 'Orange'",
     "output_type": "error",
     "traceback": [
      "\u001b[0;31m---------------------------------------------------------------------------\u001b[0m",
      "\u001b[0;31mModuleNotFoundError\u001b[0m                       Traceback (most recent call last)",
      "\u001b[0;32m<ipython-input-2-9378060ad059>\u001b[0m in \u001b[0;36m<module>\u001b[0;34m()\u001b[0m\n\u001b[0;32m----> 1\u001b[0;31m \u001b[1;32mfrom\u001b[0m \u001b[0mOrange\u001b[0m\u001b[1;33m.\u001b[0m\u001b[0mdata\u001b[0m \u001b[1;32mimport\u001b[0m \u001b[0mTable\u001b[0m\u001b[1;33m\u001b[0m\u001b[0m\n\u001b[0m\u001b[1;32m      2\u001b[0m \u001b[0mdata\u001b[0m \u001b[1;33m=\u001b[0m \u001b[0mTable\u001b[0m\u001b[1;33m(\u001b[0m\u001b[1;34m\"athletes.tab\"\u001b[0m\u001b[1;33m)\u001b[0m\u001b[1;33m\u001b[0m\u001b[0m\n\u001b[1;32m      3\u001b[0m \u001b[1;33m\u001b[0m\u001b[0m\n\u001b[1;32m      4\u001b[0m \u001b[1;31m# Domena je množica imen stolpcev\u001b[0m\u001b[1;33m\u001b[0m\u001b[1;33m\u001b[0m\u001b[0m\n\u001b[1;32m      5\u001b[0m \u001b[0mdata\u001b[0m\u001b[1;33m.\u001b[0m\u001b[0mdomain\u001b[0m\u001b[1;33m\u001b[0m\u001b[0m\n",
      "\u001b[0;31mModuleNotFoundError\u001b[0m: No module named 'Orange'"
     ]
    }
   ],
   "source": [
    "from Orange.data import Table\n",
    "data = Table(\"athletes.tab\")\n",
    "\n",
    "# Domena je množica imen stolpcev\n",
    "data.domain"
   ]
  },
  {
   "cell_type": "code",
   "execution_count": null,
   "metadata": {
    "collapsed": true
   },
   "outputs": [],
   "source": []
  },
  {
   "cell_type": "markdown",
   "metadata": {},
   "source": [
    "Oglejmo si tipe posameznih atributov. Za diskretne atribute lahko dostopamo do zaloge vrednosti."
   ]
  },
  {
   "cell_type": "code",
   "execution_count": null,
   "metadata": {
    "collapsed": false
   },
   "outputs": [],
   "source": [
    "for column in data.domain:\n",
    "    print(column, type(column))    \n",
    "    \n",
    "data.domain[\"sport\"].values"
   ]
  },
  {
   "cell_type": "code",
   "execution_count": null,
   "metadata": {
    "collapsed": false
   },
   "outputs": [],
   "source": [
    "# Dostopamo lahko do posameznih vrstic...\n",
    "print(data[0])\n",
    "print()\n",
    "print(data[1:5])\n",
    "\n",
    "# ... ali do atributov posamezne vrstice\n",
    "# spodnji načini so ekvivalentni za dostop do športa športnika v prvi vrstici\n",
    "print()\n",
    "print(data[0, 8])\n",
    "print(data[0, data.domain[\"sport\"]])\n",
    "print(data[0, data.domain.index(\"sport\")])\n",
    "print(data[0, \"sport\"]) # Najenostavneje naslavljamo kar po imenu atributa\n",
    "\n",
    "# Dostop je možen tudi do več stolpcev hkrati\n",
    "print()\n",
    "print(data[0, [\"sport\", \"name\", \"age\"]])\n",
    "print(data[0, [8, 0, -2]])"
   ]
  },
  {
   "cell_type": "code",
   "execution_count": null,
   "metadata": {
    "collapsed": false
   },
   "outputs": [],
   "source": [
    "# Številski podatki so shranjeni v numpyjevi tabeli znotraj objekta Table\n",
    "# POZOR: imena in datuma rojstva, ali države v tej matriki ne bomo našli - zakaj?\n",
    "data.X"
   ]
  },
  {
   "cell_type": "markdown",
   "metadata": {},
   "source": [
    "#### Izbira podmnožice vrstic"
   ]
  },
  {
   "cell_type": "markdown",
   "metadata": {},
   "source": [
    "Za izbiro podmnožice vrstic uporabimo filter. Naredimo objekt filter, ki vključuje pogoj ter ga pokličemo na podmnožici podatkov."
   ]
  },
  {
   "cell_type": "code",
   "execution_count": null,
   "metadata": {
    "collapsed": false
   },
   "outputs": [],
   "source": [
    "from Orange.data.filter import SameValue\n",
    "\n",
    "# Ustvarimo filter, SameValue(spremenljivka, vrednost)\n",
    "filt = SameValue(data.domain[\"sport\"], \"Alpine Skiing\")\n",
    "\n",
    "# Izberi vse alpske smučarje\n",
    "data_subset = filt(data)\n",
    "data_subset\n"
   ]
  },
  {
   "cell_type": "markdown",
   "metadata": {},
   "source": [
    "## Vizualizacija - grafična predstavitev podatkov"
   ]
  },
  {
   "cell_type": "markdown",
   "metadata": {},
   "source": [
    "### Točke v prostoru"
   ]
  },
  {
   "cell_type": "markdown",
   "metadata": {},
   "source": [
    "Poglejmo, ali sta višina in teža športnikov povezani. Za vsakega športnika narišimo točko v prostoru dveh spremelnjivk - razsevni diagram (ang. <i> scatter plot</i>)."
   ]
  },
  {
   "cell_type": "code",
   "execution_count": null,
   "metadata": {
    "collapsed": false,
    "scrolled": true
   },
   "outputs": [],
   "source": [
    "plt.figure()\n",
    "x = data.X[:, 2]    # višina je stolpec na indeksu 2\n",
    "y = data.X[:, 3]    # teža   je stolpec na indeksu 3\n",
    "plt.plot(x, y, \"k.\")\n",
    "plt.xlabel(\"Višina (m)\")\n",
    "plt.ylabel(\"Teža (kg)\")\n",
    "plt.show()"
   ]
  },
  {
   "cell_type": "markdown",
   "metadata": {},
   "source": [
    "<font color=\"orange\"><b>Za radovedne.</b></font> Videti je, da sta spremenljivki povezani. Ali sta višina in teža res povezani? Odgovor na to vprašanje lahko dobimo z merami korelacije. S pomočjo slednjih izmerimo, ali sta dve naključni spremenljivki povezani.\n",
    "\n",
    "<a href=\"https://en.wikipedia.org/wiki/Pearson_product-moment_correlation_coefficient\">Pearsonova korelacija</a> med spremenljivkama $X$ in $Y$ je definirana z naslednjim izrazom:\n",
    "\n",
    "$$\\rho = \\frac{(x - \\bar{x})(y - \\bar{y})}{\\sigma_x \\sigma_y}$$\n",
    "\n",
    "kjer sta $x$ in $y$ vektorja vzorcev naključnih spremenljivk $X$ in $Y$, $\\bar{x}$ in $\\bar{y}$ povprečni vrednosti, $\\sigma_x$, $\\sigma_y$ standardna odklona. Mera $\\rho$ zavzame vrednosti v intervalu [-1, 1], kjer vrednost -1 pomeni, da med spremenljivki velja negativna korelacija - sta obratno sorazmerni, vrednost 1 pa da sta premo sorazmerni. Vrednost 0 nakazuje, da sta spremenljivki neodvisni.\n",
    "\n"
   ]
  },
  {
   "cell_type": "code",
   "execution_count": null,
   "metadata": {
    "collapsed": true
   },
   "outputs": [],
   "source": [
    "# Implementiraj funkcijo, ki vrne Pearsonovo mero korelacije za vektorja x, y\n",
    "def pearson(x, y):\n",
    "    pass"
   ]
  },
  {
   "cell_type": "code",
   "execution_count": null,
   "metadata": {
    "collapsed": false
   },
   "outputs": [],
   "source": [
    "# Preverimo ali sta visina in teza povezani.\n",
    "print(pearson(x, y))"
   ]
  },
  {
   "cell_type": "markdown",
   "metadata": {},
   "source": [
    "### Porazdelitve"
   ]
  },
  {
   "cell_type": "markdown",
   "metadata": {},
   "source": [
    "Negotovost pri opazovanju naključne spremenljivke predstavimo s funkcijo porazdelitve. Pogost način, kako dobimo oceno za porazdelitev iz podatkov je uporaba histograma - preštejemo, koliko primerov spada v interval vrednosti spremenljivke. Poglejmo primer za telesno težo."
   ]
  },
  {
   "cell_type": "code",
   "execution_count": null,
   "metadata": {
    "collapsed": false,
    "scrolled": true
   },
   "outputs": [],
   "source": [
    "# Porazdelitev tez\n",
    "weights = data.X[:, 3]\n",
    "\n",
    "plt.figure()\n",
    "plt.hist(weights, normed=True, bins=20, color=\"blue\")\n",
    "plt.xlabel(\"Teža (kg)\")\n",
    "plt.ylabel(\"Verjetnost\")\n",
    "plt.show()"
   ]
  },
  {
   "cell_type": "markdown",
   "metadata": {},
   "source": [
    "<font color=\"green\"><b>Naredi sam/a. </b></font> Ali so porazdelitev teže med posameznimi športi razlikuje? Kaj pa višine? Izberi športnike nekaterih športov in med njimi primerjaj porazdelitve."
   ]
  },
  {
   "cell_type": "code",
   "execution_count": null,
   "metadata": {
    "collapsed": true
   },
   "outputs": [],
   "source": [
    "# Primerjaj športe po porazdelitvi tež\n",
    "# Primerjaj športe po porazdelitvi višin"
   ]
  },
  {
   "cell_type": "markdown",
   "metadata": {},
   "source": [
    "<br/>\n",
    "#### Nagrade za dosego najvišjih mest\n",
    "Še en način prikaza porazdelitev je tortni diagram. Prikažimo, kakšen kos pogače prinese vsaka od medalj (zlato \\$25.000, srebro \\$15.000, bron \\$10.000)."
   ]
  },
  {
   "cell_type": "code",
   "execution_count": null,
   "metadata": {
    "collapsed": false
   },
   "outputs": [],
   "source": [
    "# Prikazi primer slike in reprodukcija ; št medalj glede na državo\n",
    "# Nariši piecharte za vsako državo posebej\n",
    "\n",
    "\n",
    "# Denarni sklad; $25,000 za zlato, $15,000 za srebrno, $10,000 za bronasto medaljo \n",
    "total      = 25 + 15 + 10\n",
    "gold_ratio = 25 / total\n",
    "silv_ratio = 15 / total\n",
    "bron_ratio = 10 / total\n",
    "\n",
    "# Medal colors\n",
    "gold_color = \"#FFDF00\"\n",
    "silv_color = \"#C0C0C0\"\n",
    "bron_color = \"#CD7F32\"\n",
    "\n",
    "plt.figure(figsize=(3, 3))\n",
    "plt.pie((gold_ratio, bron_ratio, silv_ratio), labels=(\"Zlato\", \"Bron\", \"Srebro\",), \n",
    "        colors=(gold_color, bron_color, silv_color), startangle=90)\n",
    "plt.show()"
   ]
  },
  {
   "cell_type": "markdown",
   "metadata": {},
   "source": [
    "<br/>\n",
    "#### Spol udeležencev\n",
    "Prikažimo še bolj informativno porazdelitev, ki pokaže število moških in ženskih udeležencev iger za posamezno državo. Najprej pripravimo podatke ..."
   ]
  },
  {
   "cell_type": "code",
   "execution_count": null,
   "metadata": {
    "collapsed": false
   },
   "outputs": [],
   "source": [
    "countries = data.domain[\"country\"].values\n",
    "gender_by_country = dict()\n",
    "\n",
    "for country in countries:\n",
    "    \n",
    "    # Filter by countries\n",
    "    filt        = SameValue(data.domain[\"country\"], country)\n",
    "    data_subset = filt(data)\n",
    "    \n",
    "    # Filter males\n",
    "    filt        = SameValue(data.domain[\"gender\"], \"Male\")\n",
    "    data_subset_male = filt(data_subset)\n",
    "    \n",
    "    # Filter females\n",
    "    filt        = SameValue(data.domain[\"gender\"], \"Female\")\n",
    "    data_subset_female = filt(data_subset)\n",
    "    \n",
    "    # Store gender counts\n",
    "    gender_by_country[country] = {\"Male\": len(data_subset_male),\n",
    "                                 \"Female\": len(data_subset_female)}"
   ]
  },
  {
   "cell_type": "markdown",
   "metadata": {},
   "source": [
    "... nato pa narišemo sliko. Uporabimo funkcijo `bar`, saj smo porazdelitev že izračunali sami."
   ]
  },
  {
   "cell_type": "code",
   "execution_count": null,
   "metadata": {
    "collapsed": false
   },
   "outputs": [],
   "source": [
    "m = [gender_by_country[country][\"Male\"] for country in countries]\n",
    "f = [gender_by_country[country][\"Female\"] for country in countries]\n",
    "x = range(len(countries))\n",
    "\n",
    "# Naredi sam/a: Uredi vektorje m, f, x glede na število športnikov posamezne države\n",
    "\n",
    "plt.figure(figsize=(20, 6))\n",
    "plt.bar(x, m, color=\"cyan\", align=\"center\")\n",
    "plt.bar(x, m, bottom=m, color=\"magenta\", align=\"center\")\n",
    "plt.xlim(-0.5, len(countries)-0.5)\n",
    "plt.xticks(x)\n",
    "plt.gca().set_xticklabels(countries, rotation=90)\n",
    "\n",
    "plt.ylabel(\"Število športnikov\")\n",
    "\n",
    "# Naredi sam/a: dodaj legendo\n",
    "plt.show()"
   ]
  },
  {
   "cell_type": "markdown",
   "metadata": {},
   "source": [
    "<font color=\"green\"><b>Naredi sam/a</b></font>. Uredi zgornji graf tako, da bodo šport urejeni po številu udeležencev in dodaj legendo."
   ]
  },
  {
   "cell_type": "markdown",
   "metadata": {},
   "source": [
    "<br/>\n",
    "#### Najuspešnejše države\n",
    "<font color=\"green\"><b>Naredi sam/a</b></font>. Nariši sliko, podobno spodnji. Diagram prikazuje porazdelitev posameznih medalj po državah. Namig: najprej predpripravi podatke, nato pa nariši diagram. Zgelduj se po prejšnih primerih.\n",
    "<br/>\n",
    "<img src=\"medalje.png\"></img>"
   ]
  },
  {
   "cell_type": "code",
   "execution_count": null,
   "metadata": {
    "collapsed": false
   },
   "outputs": [],
   "source": [
    "# Priprava podatkov\n",
    "# Poisci indekse\n",
    "gold_inx = data.domain.index(\"gold_medals\")\n",
    "silv_inx = data.domain.index(\"silver_medals\")\n",
    "bron_inx = data.domain.index(\"bronze_medals\")\n",
    "\n",
    "# Pripravi podatke ; shrani st. medalj za vsako drzavo in sport\n",
    "countries = data.domain[\"country\"].values\n",
    "\n",
    "\n",
    "# Prestej medalje\n",
    "medals_by_country = dict()\n",
    "for country in countries:\n",
    "    medals_by_country[country] = dict()\n",
    "    filt        = SameValue(data.domain[\"country\"], country)\n",
    "    data_subset = filt(data) \n",
    "    medals_by_country[country] = {\n",
    "        \"gold\":   data_subset.X[:, gold_inx].sum(),\n",
    "        \"silver\": data_subset.X[:, silv_inx].sum(),\n",
    "        \"bronze\": data_subset.X[:, bron_inx].sum(),\n",
    "}                    "
   ]
  },
  {
   "cell_type": "code",
   "execution_count": null,
   "metadata": {
    "collapsed": false
   },
   "outputs": [],
   "source": [
    "# Narisi sliko"
   ]
  },
  {
   "cell_type": "markdown",
   "metadata": {},
   "source": [
    "### Sestavljene vizualizacije"
   ]
  },
  {
   "cell_type": "markdown",
   "metadata": {},
   "source": [
    "Namen dobre vizualizacije je prava mera podatkov na danem prostoru. Ta naj ne bo prevelika, vseeno pa želimo čimbolje izkoristiti prostor. Oglejmo si primer risanja <b>porazdelitev podatkov o višini in teži glede na posamezno športno panogo</b>.  "
   ]
  },
  {
   "cell_type": "markdown",
   "metadata": {},
   "source": [
    "<font color=\"green\"><b>Naredi sam/a</b></font>. Nariši sliko, podobno spodnji. Diagram prikazuje porazdelitev posameznih medalj po državah. Za vsakega igralca narišimo točko, kjer bo velikost točke premo sorazmerna s težo športnika. Osi x in y bomo izkoristili tako, da na osi x narišemo višino, na osi y pa bo posamezna športna panoga. \n",
    "<br/>\n",
    "\n",
    "<img src=\"visina.png\"></img>"
   ]
  },
  {
   "cell_type": "code",
   "execution_count": null,
   "metadata": {
    "collapsed": false
   },
   "outputs": [],
   "source": [
    "# Priprava podatkov\n",
    "# Teza in visina glede na sport; sport se nahaja v 8 stolpcu\n",
    "sports = data.domain[\"sport\"].values\n",
    "weights_by_sport = dict()\n",
    "heights_by_sport = dict()\n",
    "ages_by_sport = dict()\n",
    "\n",
    "for sport in sports:\n",
    "    filt = SameValue(data.domain[\"sport\"], sport)\n",
    "    data_subset = filt(data)\n",
    "    \n",
    "    w = data_subset[:, data.domain.index(\"weight\")].X.ravel()\n",
    "    h = data_subset[:, data.domain.index(\"height\")].X.ravel()\n",
    "    a = data_subset[:, data.domain.index(\"age\")].X.ravel()\n",
    "    \n",
    "    weights_by_sport[sport] = w\n",
    "    heights_by_sport[sport] = h\n",
    "    ages_by_sport[sport]    = a"
   ]
  },
  {
   "cell_type": "code",
   "execution_count": null,
   "metadata": {
    "collapsed": false
   },
   "outputs": [],
   "source": [
    "# Narisi sliko"
   ]
  },
  {
   "cell_type": "markdown",
   "metadata": {},
   "source": [
    "<font color=\"green\"><b>Naredi sam/a</b></font>. Uredi zgornji graf tako, da bodo šport urejeni po povprečni višini. Poizkusi tudi spreminjati količine na posameznih oseh (x, y, velikost pike)."
   ]
  }
 ],
 "metadata": {
  "kernelspec": {
   "display_name": "Python 3",
   "language": "python",
   "name": "python3"
  },
  "language_info": {
   "codemirror_mode": {
    "name": "ipython",
    "version": 3
   },
   "file_extension": ".py",
   "mimetype": "text/x-python",
   "name": "python",
   "nbconvert_exporter": "python",
   "pygments_lexer": "ipython3",
   "version": "3.6.0"
  }
 },
 "nbformat": 4,
 "nbformat_minor": 0
}
