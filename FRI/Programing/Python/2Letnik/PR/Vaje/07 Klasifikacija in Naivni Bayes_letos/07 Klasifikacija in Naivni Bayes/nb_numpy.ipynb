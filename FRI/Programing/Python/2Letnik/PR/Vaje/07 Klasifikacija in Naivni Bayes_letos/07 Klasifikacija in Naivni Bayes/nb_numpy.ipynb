{
 "cells": [
  {
   "cell_type": "markdown",
   "metadata": {},
   "source": [
    "## Naivni Bayesov klasifikator"
   ]
  },
  {
   "cell_type": "code",
   "execution_count": null,
   "metadata": {
    "collapsed": true
   },
   "outputs": [],
   "source": [
    "import numpy as np"
   ]
  },
  {
   "cell_type": "markdown",
   "metadata": {},
   "source": [
    "### Primer za ogrevanje\n",
    "\n",
    "V letniku športne gimnazije imamo 20 učencev. Vsak od njih sodeluje pri enem od športov: ```kosarka```, ```nogomet```, ```gimnastika```. Njihovo višino smo ocenili \"na oko\" in vsakemu učencu pripisali eno od možnih vrednosti: ```nizek```, ```srednji``` ali ```visok```.\n",
    "\n",
    "<img src=\"footballers.png\" width=600/>\n",
    "\n",
    "<br/>\n",
    "<font color=\"blue\"> Kako bi novemu učencu Marku, ki je ```srednje (middle)``` rasti predlagali najprimernejši šport? </font>"
   ]
  },
  {
   "cell_type": "code",
   "execution_count": null,
   "metadata": {
    "collapsed": false,
    "scrolled": true
   },
   "outputs": [
    {
     "data": {
      "text/plain": [
       "array([['tall', 'basketball'],\n",
       "       ['tall', 'basketball'],\n",
       "       ['tall', 'basketball'],\n",
       "       ['tall', 'basketball'],\n",
       "       ['middle', 'basketball'],\n",
       "       ['middle', 'basketball'],\n",
       "       ['short', 'basketball'],\n",
       "       ['tall', 'basketball'],\n",
       "       ['middle', 'football'],\n",
       "       ['middle', 'football'],\n",
       "       ['middle', 'football'],\n",
       "       ['tall', 'football'],\n",
       "       ['tall', 'football'],\n",
       "       ['short', 'football'],\n",
       "       ['short', 'football'],\n",
       "       ['short', 'gymnastics'],\n",
       "       ['short', 'gymnastics'],\n",
       "       ['short', 'gymnastics'],\n",
       "       ['middle', 'gymnastics'],\n",
       "       ['middle', 'gymnastics']], \n",
       "      dtype='<U10')"
      ]
     },
     "execution_count": 2,
     "metadata": {},
     "output_type": "execute_result"
    }
   ],
   "source": [
    "data = np.genfromtxt(\"sports.csv\", delimiter=\",\", skip_header=1, dtype=str)\n",
    "data"
   ]
  },
  {
   "cell_type": "markdown",
   "metadata": {},
   "source": [
    "Kakšne vrednosti imajo spremenljivke?"
   ]
  },
  {
   "cell_type": "code",
   "execution_count": null,
   "metadata": {
    "collapsed": false
   },
   "outputs": [
    {
     "name": "stdout",
     "output_type": "stream",
     "text": [
      "{'middle', 'short', 'tall'}\n",
      "{'basketball', 'football', 'gymnastics'}\n"
     ]
    }
   ],
   "source": [
    "heights = set(data[:, 0])\n",
    "sports = set(data[:, 1]) \n",
    "print(heights)\n",
    "print(sports)"
   ]
  },
  {
   "cell_type": "markdown",
   "metadata": {},
   "source": [
    "Kako popularni so posamezni športi?"
   ]
  },
  {
   "cell_type": "code",
   "execution_count": null,
   "metadata": {
    "collapsed": false,
    "scrolled": true
   },
   "outputs": [
    {
     "name": "stdout",
     "output_type": "stream",
     "text": [
      "0.4\n",
      "0.35\n",
      "0.25\n"
     ]
    }
   ],
   "source": [
    "for sport in sports:\n",
    "    subset_y = data[:,1] == sport\n",
    "    print(sum(subset_y)/len(data))"
   ]
  },
  {
   "cell_type": "markdown",
   "metadata": {},
   "source": [
    "\n",
    "<br/>\n",
    "<br/>\n",
    "Najpopularnejši šport je košarka, s katerim se ukvarja 8 oz. 40% učencev. Naš prvi predlog je torej, naj se Marko ukvarja s košarko. S tem rezultatom nismo najbolj zadovoljni, saj vidimo da med košarkaši ni veliko športnikov ```srednje``` višine. Razlog? Pri izračunu nismo upoštevali verjetnosti lastnosti oz. <i>atributa</i> o Markovi višini.\n",
    "<br/>\n",
    "<br/>\n",
    "\n",
    "<div style=\"background-color:#00ccff; margin-left:50px; margin-right:50px\"> Splošnim verjetnostmi razredov, ki smo jih izračunali pravimo <i>apriorne</i> verjetnosti.\n",
    "\n",
    "Označimo jih z $P(Y)$, kjer je $Y$ spremenljivka razreda.\n",
    "</div>\n",
    "\n",
    "V našem primeru $Y$ zavzame vrednosti {```basketball```, ```football```, ```gymnastics```}.\n",
    "\n",
    "\n",
    "\n",
    "<br/>\n",
    "<br/>"
   ]
  },
  {
   "cell_type": "code",
   "execution_count": null,
   "metadata": {
    "collapsed": false
   },
   "outputs": [
    {
     "name": "stdout",
     "output_type": "stream",
     "text": [
      "Sport (Y): basketball, verjetnost P(X=middle|Y=basketball): 0.250000\n",
      "Sport (Y): football, verjetnost P(X=middle|Y=football): 0.428571\n",
      "Sport (Y): gymnastics, verjetnost P(X=middle|Y=gymnastics): 0.400000\n"
     ]
    }
   ],
   "source": [
    "for sport in sports:\n",
    "    subset_y = data[:,1] == sport\n",
    "    subset_x = np.logical_and(data[:,0] == \"middle\", data[:,1] == sport)\n",
    "    p_xy = sum(subset_x) / sum(subset_y)\n",
    "    \n",
    "    print(\"Sport (Y): %s, verjetnost P(X=middle|Y=%s): %f\" % (sport, sport, p_xy, ))"
   ]
  },
  {
   "cell_type": "markdown",
   "metadata": {},
   "source": [
    "\n",
    "<br/>\n",
    "Zanimivo! Verjetnost ```srednje``` višine je največja med nogometaši. Ali podatek zadošča za spremembo prvotne odločitve?\n",
    "\n",
    "<br/>\n",
    "<div style=\"background-color:#00ccff; margin-left:50px; margin-right:50px\">\n",
    "Verjetnosti $P(X|Y)$ pravimo <i>pogojna verjetnost spremenljivke $X$ pri znanem $Y$</i>.  Opredeljuje verjetnost, da je v primerih razreda $Y$ atribut $X$ zavzame določeno vrednost. \n",
    "</div>\n",
    "\n",
    "Katera verjetnost pa nas v resnici zanima? Želimo, da izračun upošteva Markovo višino in oceni verjetnost vsakega od športov. To je verjetnost\n",
    "\n",
    "$$ P(Y|X) $$\n",
    "\n",
    "oz. v Markovem primeru\n",
    "\n",
    "$$ P(Y|X=middle)$$\n",
    "\n",
    "Za izračun te verjetnosti uporabimo"
   ]
  },
  {
   "cell_type": "markdown",
   "metadata": {},
   "source": [
    "## Bayesov obrazec\n",
    "\n",
    "Da bi izračunali verjetno razreda pri danih atributih $P(Y|X)$, potrebujemo verjetnost za vse možne kombinacije razreda $Y$ in atributov $X$, ki jo označimo z $P(X, Y)$. Iz pravil o pogojni verjetnosti sledi:\n",
    "\n",
    "$$ P(X, Y) = P(X|Y) \\cdot P(Y) = P(Y|X) \\cdot P(X)$$ \n",
    "\n",
    "<br/>\n",
    "<div style=\"background-color:#00ccff; margin-left:50px; margin-right:50px\">\n",
    "Iz česar sledi <i>Bayesov obrazec</i> za izračun $P(Y|X)$:\n",
    "\n",
    "$$P(Y|X) = \\frac{P(X|Y) \\cdot P(Y)}{P(X)} $$ \n",
    "</div>\n",
    "<br/>\n",
    "\n",
    "Izračun verjetnosti razreda $Y$ pri znanih atributih $X$ je torej odvisen od apriorne verjetnosti razreda $P(Y)$, pogojne verjetnosti $P(X|Y)$ in apriorne verjetnosti atributov $P(X)$. <font color=\"blue\">V Markovem primeru torej:</font>\n",
    "\n",
    "$$P(Y|X=middle) = \\frac{P(X=middle|Y) \\cdot P(Y)}{P(X=middle)} $$ \n",
    "\n",
    "\n",
    "<br/>\n",
    "<br/>\n",
    "Če verjetnost ocenimo za vsako možno vrednost razreda Y, torej {```kosarka```, ```nogomet```, ```gimnastika```}, dobimo odgovor na prvotno vprašanje.\n",
    "\n",
    "\n",
    "Izračunajmo $P(Y | X = middle)$!"
   ]
  },
  {
   "cell_type": "code",
   "execution_count": null,
   "metadata": {
    "collapsed": false,
    "scrolled": true
   },
   "outputs": [
    {
     "name": "stdout",
     "output_type": "stream",
     "text": [
      "P(X=middle, Y=basketball)=0.100\n",
      "P(X=short, Y=basketball)=0.050\n",
      "P(X=tall, Y=basketball)=0.250\n",
      "\n",
      "P(X=middle, Y=football)=0.150\n",
      "P(X=short, Y=football)=0.100\n",
      "P(X=tall, Y=football)=0.100\n",
      "\n",
      "P(X=middle, Y=gymnastics)=0.100\n",
      "P(X=short, Y=gymnastics)=0.150\n",
      "P(X=tall, Y=gymnastics)=0.000\n",
      "\n"
     ]
    }
   ],
   "source": [
    "for sport in sports:\n",
    "    for h in heights:\n",
    "        \n",
    "        inxs = np.logical_and(data[:,0]==h, data[:,1] ==sport)\n",
    "        p_xy = sum(inxs) / len(inxs)\n",
    "\n",
    "        print(\"P(X=%s, Y=%s)=%0.3f\" %(h,sport,p_xy))\n",
    "    \n",
    "    print()"
   ]
  },
  {
   "cell_type": "code",
   "execution_count": null,
   "metadata": {
    "collapsed": false
   },
   "outputs": [
    {
     "name": "stdout",
     "output_type": "stream",
     "text": [
      "P(Y=basketball | X=short) =0.050\n",
      "P(Y=football | X=short) =0.100\n",
      "P(Y=gymnastics | X=short) =0.150\n"
     ]
    }
   ],
   "source": [
    "h = \"short\"\n",
    "\n",
    "for s in sports:\n",
    "        p_s = sum(data[:,1]==s) /len(data)\n",
    "        p_hs = sum(np.logical_and(data[:,0]==h, data[:,1]==s))/sum(data[:,1]==s) #divided by sports of particular kind\n",
    "        \n",
    "        p_sh = p_hs * p_s\n",
    "        print(\"P(Y=%s | X=%s) =%0.3f\" %(s,h,p_sh))"
   ]
  },
  {
   "cell_type": "markdown",
   "metadata": {},
   "source": [
    "### Implementacija Naivnega Bayesovega klasifikatorja"
   ]
  },
  {
   "cell_type": "markdown",
   "metadata": {},
   "source": [
    "<i>Naivni Bayesov klasifikator</i> predpostavlja, da so atributi neodvisni med seboj, pri znanem razredu.\n",
    "\n",
    "$$ P(Y|X_1, X_2, ..., X_p) = \\frac{P(Y) \\cdot P(X_1|Y) \\cdot P(X_2|Y) \\cdots P(X_p|Y)}{P(X)} $$"
   ]
  },
  {
   "cell_type": "markdown",
   "metadata": {},
   "source": [
    "<font color=\"green\"><b>Naredi sam/a.</b></font> Dopolni implementacijo naivnega Bayesovega klasifikatorja, ki je definiran v spodnjem odseku. Dopolniti je potrebno del kode, kjer izračunamo \n",
    "* verjetnostne porazdelitev razredov $P(Y)$\n",
    "* verjetnostne porazdelitve atributov pri znanem razredu $P(X|Y)$\n",
    "\n",
    "\n",
    "\n",
    "#### Sklepanje o podatkih\n",
    "\n",
    "V primeru diskretnih atributov lahko obe porazdelitvi dobimo s <i>preštevanjem</i>.\n",
    "* $P(Y)$ <i> Kolikokrat se v podatkih pojavi razred $Y$?</i>\n",
    "* $P(X|Y)$ <i> Kolikokrat se v podatkih, ki spadajo v razred $Y$, pojavi atribut $X$?</i>\n",
    "\n",
    "\n",
    "<font color=\"blue\"><b>Kaj pa $P(X)$?</b></font> To verjetnost je včasih težko izračunljiva, posebej pri visoko dimenzionalnih podatkih, saj ni nujno, da bodo v podatki prisotne vse kombinacije atributov. Na srečo ta vrednost ne vpliva na izbiro najverjetnejšega razreda za posamezen primer!\n",
    "\n",
    "#### Napovedovanje\n",
    "\n",
    "Z nov primer $X^* = (X_1^*, X_2^*, ..., X_p^*)$ med vsemi vrednosti razreda $Y=y$, izberi tisto, ki maksimizira naslednji izraz:\n",
    "\n",
    "\n",
    "$$ \\text{arg max}_y \\ P(Y=y) \\cdot P(X_1^*|Y=y) \\cdot P(X_2^*|Y=y) \\cdots P(X_p^*|Y=y) $$\n",
    "\n",
    "#### Log-transformacija\n",
    "\n",
    "Težava pri zgornjem pristopu pre praktične narave; množenje velikega števila verjetnosti hitro privede do zelo majhnih števil, ki lahko presežejo strojno natančnost. Najenostavnejša rešitev, ki vede do enake izbire razreda je naslednja \n",
    "\n",
    "$$ \\text{arg max}_y \\ \\text{log } P(Y=y) + \\text{log } P(X_1|Y=y) + \\text{log } P(X_2|Y=y) + ... + \\text{log } P(X_p|Y=y) $$"
   ]
  },
  {
   "cell_type": "markdown",
   "metadata": {},
   "source": [
    "Pri implementaciji si pomagaj s podatki potnikov ladje <i><a href=\"https://www.kaggle.com/c/titanic\">Titanic</a></i>. Katere spremenljivke predstavljajo atribute in katera/e razred?"
   ]
  },
  {
   "cell_type": "code",
   "execution_count": null,
   "metadata": {
    "collapsed": false
   },
   "outputs": [
    {
     "data": {
      "text/plain": [
       "array([['crew', 'adult', 'male', 'yes'],\n",
       "       ['crew', 'adult', 'male', 'no'],\n",
       "       ['third', 'adult', 'male', 'no'],\n",
       "       ..., \n",
       "       ['second', 'adult', 'male', 'no'],\n",
       "       ['second', 'adult', 'female', 'yes'],\n",
       "       ['crew', 'adult', 'male', 'no']], \n",
       "      dtype='<U6')"
      ]
     },
     "execution_count": 8,
     "metadata": {},
     "output_type": "execute_result"
    }
   ],
   "source": [
    "data = np.genfromtxt(\"titanic-training.csv\", delimiter=\",\", skip_header=1, dtype=str)\n",
    "data"
   ]
  },
  {
   "cell_type": "code",
   "execution_count": null,
   "metadata": {
    "collapsed": true
   },
   "outputs": [],
   "source": [
    "class NaiveBayes:\n",
    "    \n",
    "    \n",
    "    \"\"\"\n",
    "    Naive Bayes classifier.\n",
    "    \n",
    "\n",
    "    :attribute self.probabilities\n",
    "        Dictionary that stores\n",
    "            - prior class probabilities P(Y)\n",
    "            - attribute probabilities conditional on class P(X|Y)\n",
    "    \n",
    "    :attribute self.class_values\n",
    "        All possible values of the class.\n",
    "        \n",
    "    :attribute self.variables\n",
    "        Variables in the data. \n",
    "    \n",
    "    :attribute self.trained\n",
    "        Set to True after fit is called.\n",
    "    \"\"\"\n",
    "    \n",
    "    def __init__(self):\n",
    "        self.trained       = False\n",
    "        self.probabilitiesY = dict()\n",
    "        self.probabilitiesXY = dict()\n",
    "        \n",
    "        # You can add more auxilliary variables to store attribute and class values\n",
    "    \n",
    "    \n",
    "    def fit(self, data, class_index=-1):\n",
    "        \"\"\"\n",
    "        Fit a NaiveBayes classifier.\n",
    "        \n",
    "        :param data\n",
    "            Data array       \n",
    "        \"\"\"\n",
    "        \n",
    "        \n",
    "        \n",
    "        # Store info on class varibles and attributes\n",
    "        \n",
    "        \n",
    "        # Compute P(Y) - the overall probability of each class value.\n",
    "        \n",
    "        # Compute P(X|Y) - the probability of x given each class\n",
    "\n",
    "        \n",
    "        '''\n",
    "        1. store info on class variables and attributes\n",
    "          self.probabilities = {\n",
    "            0:{\n",
    "                \"crew\":\n",
    "                \"first\":\n",
    "                \"second\n",
    "            }\n",
    "                1:{\n",
    "                ...\n",
    "            }\n",
    "\n",
    "        }\n",
    "        \n",
    "        \n",
    "        2. compute P(Y) - the overall probability of each value\n",
    "        self.probabilitiesY = {\n",
    "            \"yes\":p_yes, \"no\":p_no\n",
    "        }\n",
    "         3. Compute P(X|Y) - the probability of x given each class\n",
    "        self.probabilitiesXY = {\n",
    "            \"yes\":{0:{\"crew\": p1, \"first\": p2...,}, 1:{...}}\n",
    "            \"no\" :{0:{\"crew\": p1, \"first\": p2...,}, 1:{...}}\n",
    "        }\n",
    "        \n",
    "        \n",
    "      \n",
    "        '''\n",
    "        \n",
    "        class_index= -1\n",
    "        classes = set(data[:, class_index]) \n",
    "        for c in classes:\n",
    "            #2\n",
    "            subset_y = data[:,class_index] == c\n",
    "            p = round(sum(subset_y) / len(data), 4)\n",
    "            self.probabilitiesY[c] = p\n",
    "            \n",
    "             #3\n",
    "            #mormo it skoz vse indekse razn class\n",
    "            self.probabilitiesXY[c] = dict()\n",
    "            \n",
    "            ncols = data.shape[1] ##pazi tko dobiš num of columns\n",
    "            for attr_index in range(ncols):\n",
    "                attr_values = set(data[:, attr_index])  ##all possible values for attribute attr_index\n",
    "                self.probabilitiesXY[c][attr_index] = dict()\n",
    "                for value in attr_values:\n",
    "                    #binary vectors\n",
    "                    inxs_y = data[:, class_index] == c #examples with class == c\n",
    "                    inxs_xy = data[inxs_y, attr_index] == value #examples with class == c && attribute == val   !!!!!!!!!\n",
    "                    \n",
    "                    \n",
    "                    p_xy = round(sum(inxs_xy) / sum(inxs_y), 4)\n",
    "                    \n",
    "                    \n",
    "                    self.probabilitiesXY[c][attr_index][value] = p_xy \n",
    "\n",
    "        \n",
    "            \n",
    "        self.trained = True\n",
    "        \n",
    "    \n",
    "    def predict_instance(self, row):\n",
    "        \"\"\"\n",
    "        Predict a class value for one row in a data array.\n",
    "        \n",
    "        Compute \n",
    "            argmax P(Y|X) =  argmax P(X1|Y) * P(X2|Y) * ... * P(Y)\n",
    "        \n",
    "        :param row\n",
    "            Array row.\n",
    "        :return \n",
    "            Most probable class and the confidence.\n",
    "        \"\"\"\n",
    "        # TODO: implement\n",
    "        classes = self.probabilitiesY.keys()\n",
    "        \n",
    "        \n",
    "        curr_c = \"\"\n",
    "        curr_p = 0\n",
    "        \n",
    "        for c in classes: #ai je attribute index\n",
    "            \n",
    "            p = self.probabilitiesY[c]\n",
    "            \n",
    "            \n",
    "            for ai in range(len(row)):\n",
    "                v = row[ai]\n",
    "                p = p * self.probabilitiesXY[c][ai][v] #for each class we get multiple results -store max\n",
    "                \n",
    "                if p > curr_p: #store max\n",
    "                    curr_c = c\n",
    "                    curr_p = p\n",
    "                \n",
    "        return curr_c, curr_p\n",
    "        \n",
    "   \n",
    "\n",
    "    def predict(self, data):\n",
    "        \"\"\"\n",
    "        Predict class labels for all rows in data. \n",
    "        \n",
    "        :param data\n",
    "            Data array\n",
    "        :return y, c\n",
    "            y: NumPy vector with predicted class values (str).\n",
    "            c: NumPy vector with confidences.\n",
    "            \n",
    "        \"\"\"\n",
    "        ##call predict_instance for each row individually\n",
    "        \n",
    "        \n",
    "        n = data.shape[0]\n",
    "        #predictions = np.zeros((n, ))\n",
    "        predictions = list()\n",
    "        confidences = np.zeros((n, ))\n",
    "    \n",
    "        # TODO: implement\n",
    "        return predictions, confidences"
   ]
  },
  {
   "cell_type": "code",
   "execution_count": 30,
   "metadata": {
    "collapsed": false
   },
   "outputs": [
    {
     "name": "stdout",
     "output_type": "stream",
     "text": [
      "0.314545454545\n",
      "0.685454545455\n"
     ]
    }
   ],
   "source": [
    "classes = set(data[:, -1]) \n",
    "\n",
    "for _class in classes:\n",
    "    subset_y = data[:,-1] == _class\n",
    "    print(sum(subset_y)/len(data))"
   ]
  },
  {
   "cell_type": "markdown",
   "metadata": {},
   "source": [
    "####  Uporaba klasifikatorja"
   ]
  },
  {
   "cell_type": "markdown",
   "metadata": {},
   "source": [
    "Primer uporabe na podatkih potnikov ladje <i><a href=\"https://www.kaggle.com/c/titanic\">Titanic</a></i>."
   ]
  },
  {
   "cell_type": "code",
   "execution_count": 43,
   "metadata": {
    "collapsed": false
   },
   "outputs": [
    {
     "name": "stdout",
     "output_type": "stream",
     "text": [
      "{'yes': 0.3145, 'no': 0.6855}\n"
     ]
    },
    {
     "data": {
      "text/plain": [
       "{'no': {0: {'crew': 0.43369999999999997,\n",
       "   'first': 0.090200000000000002,\n",
       "   'second': 0.1167,\n",
       "   'third': 0.3594},\n",
       "  1: {'adult': 0.96419999999999995, 'child': 0.035799999999999998},\n",
       "  2: {'female': 0.083599999999999994, 'male': 0.91639999999999999},\n",
       "  3: {'no': 1.0, 'yes': 0.0}},\n",
       " 'yes': {0: {'crew': 0.28899999999999998,\n",
       "   'first': 0.28029999999999999,\n",
       "   'second': 0.17630000000000001,\n",
       "   'third': 0.25430000000000003},\n",
       "  1: {'adult': 0.91620000000000001, 'child': 0.083799999999999999},\n",
       "  2: {'female': 0.49130000000000001, 'male': 0.50870000000000004},\n",
       "  3: {'no': 0.0, 'yes': 1.0}}}"
      ]
     },
     "execution_count": 43,
     "metadata": {},
     "output_type": "execute_result"
    }
   ],
   "source": [
    "model = NaiveBayes()\n",
    "model.fit(data)\n",
    "\n",
    "print(model.probabilitiesY)\n",
    "model.probabilitiesXY"
   ]
  },
  {
   "cell_type": "code",
   "execution_count": 44,
   "metadata": {
    "collapsed": false
   },
   "outputs": [
    {
     "data": {
      "text/plain": [
       "('no', 0.2463687)"
      ]
     },
     "execution_count": 44,
     "metadata": {},
     "output_type": "execute_result"
    }
   ],
   "source": [
    "row = data[42]\n",
    "row \n",
    "model.predict_instance(row)"
   ]
  },
  {
   "cell_type": "code",
   "execution_count": null,
   "metadata": {
    "collapsed": false
   },
   "outputs": [],
   "source": [
    ""
   ]
  },
  {
   "cell_type": "markdown",
   "metadata": {},
   "source": [
    "### Ocenjevanje uspešnosti klasifikacije\n",
    "\n",
    "Za ocenjevanje uspešnosti klasifikacije vsak napovedani primer primerjamo s pripadajočim resničnim razredo. Štirje možni izidi primerjave so naslednji: \n",
    "\n",
    "<table>\n",
    "<tr>\n",
    "<td>\n",
    "<ul>\n",
    "<li>TP: True positives (pravilno napovedani pozitivni primeri)</li>\n",
    "<li>FP: False positives (napačno napovedani negativni primeri)</li>\n",
    "<li>TN: True negatives (pravilno napovedani negativni primeri)</li>\n",
    "<li>FN: False negatives (napačno napovedani pozitini primeri)</li>\n",
    "</ul> \n",
    "\n",
    "<br/>\n",
    "<img src=\"type12_error.jpeg\" width=400/>\n",
    "\n",
    "</td>\n",
    "<td><img width=\"400\" src=\"Precisionrecall.png\"></img><td>\n",
    "<tr/>\n",
    "<table>\n",
    "\n",
    "\n",
    "#### Delež pravilno razvrščenih razredov (ang. classification accuracy)\n",
    "\n",
    "\n",
    "$$ca = \\frac{TP + TN}{TP + TN + FP + FN}$$\n",
    "\n",
    "<font color=\"green\">Prednosti</font>:\n",
    "* Enostaven izračun, jasna interpretacija\n",
    "* Uporabna mera za poljubno število razredov\n",
    "\n",
    "<font color=\"red\">Slabosti</font>:\n",
    "* Lahko zavaja pri neuravnoteženih porazdelitvah razredov\n",
    "\n",
    "<br/>\n",
    "\n",
    "#### Natančnost, priklic (ang. precision, recall)\n",
    "\n",
    "\n",
    "\n",
    "$$ p = \\frac{TP}{TP + FP} $$\n",
    "\n",
    "$$ r = \\frac{TP}{TP + FN} $$\n",
    "\n",
    "<font color=\"green\">Prednosti</font>:\n",
    "* Enostaven izračun, jasna interpretacija\n",
    "* Ločitev obeh tipov napak (napačno pozitivni in napačno negativni primeri)\n",
    "* Uporabna tudi pri neuravnoteženih porazdelitvah razredov\n",
    "\n",
    "<font color=\"red\">Slabosti</font>:\n",
    "* Uporabno pretežno za klasifikacijo v dva razreda\n",
    "* Težko povzeti obe meri ; približek je F1-vrednost (ang. F1-score)\n",
    "$$ F1 = 2 \\frac{p \\cdot r}{p + r} $$\n"
   ]
  },
  {
   "cell_type": "markdown",
   "metadata": {},
   "source": [
    "<font color=\"green\"><b>Naredi sam/a.</b></font> Napovej razrede na testni množici. Napovedane razrede primerjaj z resničnimi in izmeri klasifikacijsko točnost, natančnost, priklic in F1-vrednost."
   ]
  },
  {
   "cell_type": "code",
   "execution_count": 11,
   "metadata": {
    "collapsed": false
   },
   "outputs": [
    {
     "ename": "NameError",
     "evalue": "name 'Table' is not defined",
     "traceback": [
      "\u001b[0;31m---------------------------------------------------------------------------\u001b[0m",
      "\u001b[0;31mNameError\u001b[0m                                 Traceback (most recent call last)",
      "\u001b[0;32m<ipython-input-11-79547650bb59>\u001b[0m in \u001b[0;36m<module>\u001b[0;34m()\u001b[0m\n\u001b[1;32m      5\u001b[0m \u001b[1;33m\u001b[0m\u001b[0m\n\u001b[1;32m      6\u001b[0m \u001b[1;31m# uporaba metod:\u001b[0m\u001b[1;33m\u001b[0m\u001b[1;33m\u001b[0m\u001b[0m\n\u001b[0;32m----> 7\u001b[0;31m \u001b[0mtest_data\u001b[0m      \u001b[1;33m=\u001b[0m \u001b[0mTable\u001b[0m\u001b[1;33m(\u001b[0m\u001b[1;34m\"titanic-test.tab\"\u001b[0m\u001b[1;33m)\u001b[0m\u001b[1;33m\u001b[0m\u001b[0m\n\u001b[0m\u001b[1;32m      8\u001b[0m \u001b[0mpredictions\u001b[0m\u001b[1;33m,\u001b[0m \u001b[0m_\u001b[0m \u001b[1;33m=\u001b[0m \u001b[0mmodel\u001b[0m\u001b[1;33m.\u001b[0m\u001b[0mpredict\u001b[0m\u001b[1;33m(\u001b[0m\u001b[0mtest_data\u001b[0m\u001b[1;33m)\u001b[0m\u001b[1;33m\u001b[0m\u001b[0m\n\u001b[1;32m      9\u001b[0m \u001b[0mtruth\u001b[0m          \u001b[1;33m=\u001b[0m \u001b[1;33m[\u001b[0m\u001b[0mrow\u001b[0m\u001b[1;33m[\u001b[0m\u001b[1;34m\"survived\"\u001b[0m\u001b[1;33m]\u001b[0m\u001b[1;33m.\u001b[0m\u001b[0mvalue\u001b[0m \u001b[1;32mfor\u001b[0m \u001b[0mrow\u001b[0m \u001b[1;32min\u001b[0m \u001b[0mtest_data\u001b[0m\u001b[1;33m]\u001b[0m\u001b[1;33m\u001b[0m\u001b[0m\n",
      "\u001b[0;31mNameError\u001b[0m: name 'Table' is not defined"
     ],
     "output_type": "error"
    }
   ],
   "source": [
    "from sklearn.metrics import accuracy_score\n",
    "from sklearn.metrics import precision_score\n",
    "from sklearn.metrics import recall_score\n",
    "from sklearn.metrics import f1_score\n",
    "\n",
    "# uporaba metod: \n",
    "test_data      = Table(\"titanic-test.tab\")\n",
    "predictions, _ = model.predict(test_data) \n",
    "truth          = [row[\"survived\"].value for row in test_data]\n",
    "accuracy_score(truth, predictions)"
   ]
  },
  {
   "cell_type": "markdown",
   "metadata": {},
   "source": [
    "<font color=\"orange\"><b>Izziv.</b></font> Nekateri atributi imajo verjetnost 0 pri posameznem razredu. Kako bi popravili klasifikator?"
   ]
  },
  {
   "cell_type": "code",
   "execution_count": null,
   "metadata": {
    "collapsed": true
   },
   "outputs": [],
   "source": [
    ""
   ]
  },
  {
   "cell_type": "markdown",
   "metadata": {},
   "source": [
    "<font color=\"blue\"><b>Razmisli.</b></font> Kako bi dopolnili klasifikator, če bi bili nekateri atributi lahko tudi zvezni? Namig: spomni se vaj, ko smo spoznali <i>verjetnostne porazdelitve</i> zveznih spremenljivk. "
   ]
  }
 ],
 "metadata": {
  "kernelspec": {
   "display_name": "Python 3",
   "language": "python",
   "name": "python3"
  },
  "language_info": {
   "codemirror_mode": {
    "name": "ipython",
    "version": 3.0
   },
   "file_extension": ".py",
   "mimetype": "text/x-python",
   "name": "python",
   "nbconvert_exporter": "python",
   "pygments_lexer": "ipython3",
   "version": "3.6.0"
  }
 },
 "nbformat": 4,
 "nbformat_minor": 0
}