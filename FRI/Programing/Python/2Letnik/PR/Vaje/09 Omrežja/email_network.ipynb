{
 "cells": [
  {
   "cell_type": "markdown",
   "metadata": {},
   "source": [
    "## Osnove analize in vizualizacije omrežij\n",
    "\n",
    "V tej kratki vaji bomo spoznali osnove analize omrežij, format ```.net``` in funkcionalnosti modula Orange - Networks.\n",
    "\n",
    "<img width=300 src=\"Social_Red.jpg\">"
   ]
  },
  {
   "cell_type": "markdown",
   "metadata": {},
   "source": [
    "Pripravili smo funkcijo, ki iz email računa (protokol IMAP) prebere vse naslovnike sporočil. Tako zgradimo omrežje so-naslovnikov danega računa."
   ]
  },
  {
   "cell_type": "code",
   "execution_count": 1,
   "metadata": {
    "collapsed": false
   },
   "outputs": [
    {
     "ename": "ModuleNotFoundError",
     "evalue": "No module named 'get_email'",
     "output_type": "error",
     "traceback": [
      "\u001b[0;31m---------------------------------------------------------------------------\u001b[0m",
      "\u001b[0;31mModuleNotFoundError\u001b[0m                       Traceback (most recent call last)",
      "\u001b[0;32m<ipython-input-1-ba2f68e0794b>\u001b[0m in \u001b[0;36m<module>\u001b[0;34m()\u001b[0m\n\u001b[0;32m----> 1\u001b[0;31m \u001b[1;32mfrom\u001b[0m \u001b[0mget_email\u001b[0m \u001b[1;32mimport\u001b[0m \u001b[0mgenerate_addressee_network\u001b[0m\u001b[1;33m\u001b[0m\u001b[0m\n\u001b[0m\u001b[1;32m      2\u001b[0m \u001b[0mhelp\u001b[0m\u001b[1;33m(\u001b[0m\u001b[0mgenerate_addressee_network\u001b[0m\u001b[1;33m)\u001b[0m\u001b[1;33m\u001b[0m\u001b[0m\n",
      "\u001b[0;31mModuleNotFoundError\u001b[0m: No module named 'get_email'"
     ]
    }
   ],
   "source": [
    "from get_email import generate_addressee_network\n",
    "help(generate_addressee_network)"
   ]
  },
  {
   "cell_type": "markdown",
   "metadata": {},
   "source": [
    "S spodnjo funkcijo zgradimo podatkovne datoteke ```.txt``` (seznam sonaslovnikov), ```.tab``` (atributi vozlišč), ```.net``` (graf omrežja). Oglej si kodo in format datotek."
   ]
  },
  {
   "cell_type": "code",
   "execution_count": null,
   "metadata": {
    "collapsed": false
   },
   "outputs": [
    {
     "name": "stdout",
     "output_type": "stream",
     "text": [
      "Account: someone@gmail.com\n"
     ]
    }
   ],
   "source": [
    "generate_addressee_network(\"someone@gmail.com\", imap='imap.gmail.com', max_tuples=10000,\n",
    "                              email_folder=\"INBOX\", file_prefix=\"ds\",\n",
    "                              min_tuple_length=2, max_tuple_length=15)"
   ]
  },
  {
   "cell_type": "markdown",
   "metadata": {},
   "source": [
    "Uporabimo programski paket <b>Orange</b> oz. dodatek <b>\"Networks\"</b>.\n",
    "<img src=\"network_scheme.png\"/> <br/> "
   ]
  },
  {
   "cell_type": "markdown",
   "metadata": {},
   "source": [
    "Podatke naložimo z vtičnikom <b>Network File</b>, ki prebere podatke o vozliščih in povezavah.\n",
    "<img src=\"network_widget.png\"/> <br/> "
   ]
  },
  {
   "cell_type": "markdown",
   "metadata": {},
   "source": [
    "Z uporabo algoritmov v vtičniku <b>Network Clustering</b> poiščemo močno povezane komponente v omrežju.\n",
    "<img src=\"network_clusters.png\"/> <br/> "
   ]
  },
  {
   "cell_type": "markdown",
   "metadata": {},
   "source": [
    "<font color=\"green\"><b>Naredi sam/a.</b></font> Ponovi zgornjo analizo za podatke iz svojega e-poštnega računa."
   ]
  },
  {
   "cell_type": "code",
   "execution_count": null,
   "metadata": {
    "collapsed": true
   },
   "outputs": [],
   "source": [
    "# ..."
   ]
  },
  {
   "cell_type": "markdown",
   "metadata": {},
   "source": [
    "<font color=\"green\"><b>Naredi sam/a.</b></font> Zgradi omrežje igralcev v podatkovni zbirki MovieLens. "
   ]
  },
  {
   "cell_type": "code",
   "execution_count": null,
   "metadata": {
    "collapsed": true
   },
   "outputs": [],
   "source": [
    "# ..."
   ]
  },
  {
   "cell_type": "markdown",
   "metadata": {},
   "source": [
    "<font color=\"green\"><b>Naredi sam/a.</b></font> Zgradi omrežje uporabnikov v podatkovni zbirki MovieLens. Vizualizacijo omrežja lahko vključiš v implementacijo priporočilnega sistema v 5. domači nalogi.  "
   ]
  },
  {
   "cell_type": "code",
   "execution_count": null,
   "metadata": {
    "collapsed": true
   },
   "outputs": [],
   "source": [
    "# ..."
   ]
  }
 ],
 "metadata": {
  "kernelspec": {
   "display_name": "Python 3",
   "language": "python",
   "name": "python3"
  },
  "language_info": {
   "codemirror_mode": {
    "name": "ipython",
    "version": 3
   },
   "file_extension": ".py",
   "mimetype": "text/x-python",
   "name": "python",
   "nbconvert_exporter": "python",
   "pygments_lexer": "ipython3",
   "version": "3.6.0"
  }
 },
 "nbformat": 4,
 "nbformat_minor": 0
}
