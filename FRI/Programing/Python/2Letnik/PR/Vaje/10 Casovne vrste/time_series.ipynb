{
 "cells": [
  {
   "cell_type": "markdown",
   "metadata": {},
   "source": [
    "# Modeliranje časovnih vrst"
   ]
  },
  {
   "cell_type": "markdown",
   "metadata": {},
   "source": [
    "Modeliranje časovnih vrst je pomeben del ekonomskih modelov, borznega posredništva, analize časovnih meritev v fiziki, biologiji, kemiji, ipd.\n",
    "\n",
    "\n",
    "Podatki v obliki časovnih vrst se od dosedanjih scenarijev razlikujejo po pomebni lastnosti: vzorci <i>niso</i> neodvisni med seboj. Podatke predstavlja vektor časovnih točk (ki niso nujno enako oddaljene):\n",
    "\n",
    "$$ \\mathbf{t} = (t_1, t_2, ..., t_n) $$\n",
    "\n",
    "Običajno nas zanima <i>funkcija</i> oz. <i>signal</i> v vsaki časovni točki.\n",
    "\n",
    "$$ x(\\mathbf{t}) = (x(t_1), x(t_2), ..., x(t_n)) $$ "
   ]
  },
  {
   "cell_type": "code",
   "execution_count": null,
   "metadata": {
    "collapsed": false
   },
   "outputs": [],
   "source": [
    "import sys\n",
    "import mlpy\n",
    "\n",
    "%matplotlib inline\n",
    "import matplotlib.pyplot as plt\n",
    "import matplotlib.cm as cm\n",
    "import numpy as np\n",
    "import scipy\n",
    "import os\n",
    "import GPy\n",
    "import Orange"
   ]
  },
  {
   "cell_type": "markdown",
   "metadata": {},
   "source": [
    "## Primerjava časovnih vrst"
   ]
  },
  {
   "cell_type": "markdown",
   "metadata": {},
   "source": [
    "Oglejmo si preprost primer dveh podobnih signalov $x(\\mathbf{t})$ in $y(\\mathbf{t})$."
   ]
  },
  {
   "cell_type": "code",
   "execution_count": null,
   "metadata": {
    "collapsed": false
   },
   "outputs": [],
   "source": [
    "t = np.linspace(-5, 5, 100)\n",
    "x = np.sin(t)    * np.cos(2*t) + 0.2*np.random.rand(1, 100).ravel()\n",
    "y = -np.sin(t-2) * np.cos(2*t + 4) + 0.2*np.random.rand(1, 100).ravel()"
   ]
  },
  {
   "cell_type": "code",
   "execution_count": null,
   "metadata": {
    "collapsed": false
   },
   "outputs": [],
   "source": [
    "plt.figure()\n",
    "plt.plot(x, \"b\", label=\"$x(t)$\")\n",
    "plt.plot(y, \"r\", label=\"$y(t)$\")\n",
    "plt.xlabel(\"t\")\n",
    "plt.legend()\n",
    "plt.show()"
   ]
  },
  {
   "cell_type": "markdown",
   "metadata": {},
   "source": [
    "Opazimo, da sta si signala zelo podobna, vendar so vrhovi zelo oddaljeni med seboj. Kako izmeriti to razdaljo (npr. za potrebe hierarhičnega gručenja)? Evklidska razdalja vrne navidez zelo visoko vrednost."
   ]
  },
  {
   "cell_type": "code",
   "execution_count": null,
   "metadata": {
    "collapsed": false
   },
   "outputs": [],
   "source": [
    "np.linalg.norm(x-y, ord=2)"
   ]
  },
  {
   "cell_type": "markdown",
   "metadata": {},
   "source": [
    "Korelacija med signaloma je nizka oz. celo obratna."
   ]
  },
  {
   "cell_type": "code",
   "execution_count": null,
   "metadata": {
    "collapsed": false
   },
   "outputs": [],
   "source": [
    "scipy.stats.pearsonr(x, y)[0]"
   ]
  },
  {
   "cell_type": "markdown",
   "metadata": {},
   "source": [
    "### Dinamična poravnava signalov"
   ]
  },
  {
   "cell_type": "markdown",
   "metadata": {},
   "source": [
    "\n",
    "\n",
    "V splošnem imamo dva različno dolga signala:\n",
    "\n",
    "$$ x(\\mathbf{t}) = (x(t_1), x(t_2), ..., x(t_n)) $$ \n",
    "$$ y(\\mathbf{t}) = (y(t_1), y(t_2), ..., y(t_m)) $$ \n",
    "\n",
    "Dinamična poravnava signalov (ang. <i>Dynamic time warping</i>, DTW) je algoritem dinamičnega programiranja, ki poišče signala $x_w(\\mathbf{t})$ in $y_w(\\mathbf{t})$, tako, da je razdalja med vrednostmi signalov $|x_w(t_k) - y_w(t_k)|$ čim manjša. Dovoljeno je lokalno raztezanje in krčenje obeh signalov.\n",
    "\n",
    "Algoritem DTW sestavi matriko $\\mathbf{W}$ velikosti $m \\times n$ ki hrani razdalje, tako da \n",
    "\n",
    "$$w_{ij} = |x(t_i) - y(t_j)|$$\n",
    "\n",
    "Cilj algoritma DTW je iskanje <b>poti</b> dolžine $max(m, n)$, ki gre iz levega spodnjega v desni zgornji kot matrike $\\mathbf{W}$, tako da zmanjšamo skupno razdaljo\n",
    "\n",
    "$$ \\text{min} \\sum_{k} \\sqrt{w_k} $$\n",
    "\n",
    "    "
   ]
  },
  {
   "cell_type": "markdown",
   "metadata": {},
   "source": [
    "Rezultat algoritma je matrika poravnave, optimalna pot in skupna razdalja med signaloma."
   ]
  },
  {
   "cell_type": "code",
   "execution_count": null,
   "metadata": {
    "collapsed": false
   },
   "outputs": [],
   "source": [
    "dist, cost, path = mlpy.dtw_std(x, y, dist_only=False)\n",
    "print(\"Oddaljenost med x in y\", dist)"
   ]
  },
  {
   "cell_type": "code",
   "execution_count": null,
   "metadata": {
    "collapsed": false
   },
   "outputs": [],
   "source": [
    "fig = plt.figure(2)\n",
    "ax = fig.add_subplot(111)\n",
    "plot1 = plt.imshow(cost.T, origin='lower', cmap=cm.gray, interpolation='nearest')\n",
    "plot2 = plt.plot(path[0], path[1], 'y', label=\"Pot w_k\")\n",
    "xlim = ax.set_xlim((-0.5, cost.shape[0]-0.5))\n",
    "ylim = ax.set_ylim((-0.5, cost.shape[1]-0.5))\n",
    "plt.xlabel(\"Indeks $y$\")\n",
    "plt.ylabel(\"Indeks $x$\")\n",
    "plt.title(\"Optimalna matrika poravnave\",)\n",
    "plt.legend( loc=4)\n",
    "plt.show()"
   ]
  },
  {
   "cell_type": "markdown",
   "metadata": {},
   "source": [
    "Poravnana signala dobimo s poravnavo vrednosti na ustreznih mestih v zaporedju."
   ]
  },
  {
   "cell_type": "code",
   "execution_count": null,
   "metadata": {
    "collapsed": true
   },
   "outputs": [],
   "source": [
    "xw = x[path[0]]\n",
    "yw = y[path[1]]"
   ]
  },
  {
   "cell_type": "markdown",
   "metadata": {},
   "source": [
    "Korelacija med signaloma je bistveno večja!"
   ]
  },
  {
   "cell_type": "code",
   "execution_count": null,
   "metadata": {
    "collapsed": false
   },
   "outputs": [],
   "source": [
    "scipy.stats.pearsonr(xw, yw)[0]"
   ]
  },
  {
   "cell_type": "markdown",
   "metadata": {},
   "source": [
    "Oba signala sta lokalno deformirana."
   ]
  },
  {
   "cell_type": "code",
   "execution_count": null,
   "metadata": {
    "collapsed": false
   },
   "outputs": [],
   "source": [
    "plt.figure()\n",
    "plt.plot(xw, label=\"$x_w(t)$\")\n",
    "plt.plot(yw, label=\"$y_w(t)$\")\n",
    "plt.legend()\n",
    "plt.show()"
   ]
  },
  {
   "cell_type": "markdown",
   "metadata": {},
   "source": [
    "<font color=\"green\"><b>Naredi sam/a.</b></font> Poišči slovenske občine s podobnimi trendi spreminjanja gostote prebivalstva."
   ]
  },
  {
   "cell_type": "code",
   "execution_count": null,
   "metadata": {
    "collapsed": false
   },
   "outputs": [],
   "source": [
    "x = np.loadtxt(\"data/ages/Maribor_starost-20-24_let.txt\")\n",
    "y = np.loadtxt(\"data/ages/Ljubljana_starost-20-24_let.txt\")\n",
    "# ..."
   ]
  },
  {
   "cell_type": "markdown",
   "metadata": {},
   "source": [
    "<br/>\n",
    "<br/>\n",
    "<br/>\n",
    "<br/>\n",
    "<br/>\n",
    "## Neparametrična regresija ali napovedovanje trendov"
   ]
  },
  {
   "cell_type": "markdown",
   "metadata": {},
   "source": [
    "### Gaussovi procesi"
   ]
  },
  {
   "cell_type": "markdown",
   "metadata": {},
   "source": [
    "Gaussovi procesi so paradni konj družine modelov, ki ji pravimo <i>neparametrična regresija</i>. Napovedni model tokrat ne bo predstavljen kot vektor uteži, temveč bo vsa informacija za napovedovanje vsebovana v učnem vzorcu. Prednosti pristopa sta:\n",
    "* predpostavka, da so primeri neodvisni med seboj ne drži več,\n",
    "* model se posodobi, ko se pojavijo novi primeri.\n",
    "\n",
    "\n",
    "<br>\n",
    "\n",
    "Glana predpostavka je naslednja. Funkcija $x(\\mathbf{t})$ je porazdeljena po multivariatni normalni porazdelitvi. To ne pomeni, da je vsaka vrednost $(x(t_i))$ porazdeljena normalno, temveč da celoten vektor $x(\\mathbf{t})$ prihaja iz <i> skupne noramalne porazdelitve </i>, kjer so posamezne vrednosti $(x(t_i))$ lahko odvisne med sabo!\n",
    "\n",
    "Torej:\n",
    "\n",
    "\n",
    "$$ x(\\mathbf{t}) \\sim \\mathcal{N}(m(\\mathbf{t}), k(\\mathbf{t}, \\mathbf{t})) $$ \n",
    "\n",
    "Funkcija $m(\\mathbf{t})$ je funkcija <i>povprečja</i>, funkcija $k(\\mathbf{t}, \\mathbf{t})$ pa funkcija <i>kovariance</i>. Večinoma funkcijo povprečja nastavimo na 0, na obliko modela pa bistveno vpliva struktura kovariance. Zapišemo\n",
    "\n",
    "$$ x(\\mathbf{t}) \\sim \\mathcal{N}(\\mathbf{0}, k(\\mathbf{t}, \\mathbf{t})) $$ \n",
    "\n",
    "V praksi to pomeni, da za vsak končen učni vzorec $(x(t_1), x(t_2), ..., x(t_n))$ lahko <i>statistično sklepamo</i> o vsaki drugi časovni točki. Ob predpostavki normalne porazdelitve tako lahko analitično izračunamo naslednjo pogojno verjetnost\n",
    "\n",
    "$$ p(x(t_*) |  x(t_1), x(t_2), ..., x(t_n)) $$\n",
    "\n",
    "Za vsako časovno točko $t_*$. Kje je torej skrita informacija o podobnosti med primeri? V <b>kovariančni funkciji</b>!"
   ]
  },
  {
   "cell_type": "markdown",
   "metadata": {},
   "source": [
    "#### Primer\n",
    "\n",
    "Oglejmo si spreminjanje bruto državnega proizvoda v Združenih državah amerike med leti 1970 in 2012."
   ]
  },
  {
   "cell_type": "code",
   "execution_count": null,
   "metadata": {
    "collapsed": false,
    "scrolled": true
   },
   "outputs": [],
   "source": [
    "data = Orange.data.Table(\"data/GDP-USD-countries.csv\")\n",
    "\n",
    "i = 204\n",
    "x = data.X[0, :]\n",
    "\n",
    "t = np.arange(0, len(x)).reshape((len(x), 1))\n",
    "x = x.reshape((len(x), 1))\n",
    "\n",
    "plt.figure()\n",
    "plt.title(data[i][\"Country\"])\n",
    "plt.plot(t, x)\n",
    "plt.xticks(np.arange(0, len(x), 5))\n",
    "plt.gca().set_xticklabels(range(1970, 2012, 5))\n",
    "plt.xlabel(\"Year\")\n",
    "plt.ylabel(\"GDP ($)\")\n",
    "plt.show()"
   ]
  },
  {
   "cell_type": "markdown",
   "metadata": {},
   "source": [
    "Uporabili bomo tipično funkcijo kovariance, eksponentno-kvadratno funkcijo (ang. \"Exponentiated-quadratic\" oz. \"RBF\"), dano z izrazom\n",
    "\n",
    "$$ k(t, t') = exp\\{-\\frac{\\|t-t'\\|^2}{2\\ell^2}\\} $$\n",
    "\n",
    "kjer parametru $\\ell$ pravimo dolžina vpliva (ang. <i>lengthscale</i>)."
   ]
  },
  {
   "cell_type": "code",
   "execution_count": null,
   "metadata": {
    "collapsed": false
   },
   "outputs": [],
   "source": [
    "kernel = GPy.kern.RBF(input_dim=1,)\n",
    "model = GPy.models.GPRegression(t, x, kernel, noise_var=10.0)\n",
    "\n",
    "\n",
    "model.optimize(messages=True)\n",
    "model.plot(lower=5, upper=95)\n",
    "plt.gca().set_xlabel(\"t\")\n",
    "plt.gca().set_ylabel(\"GDP($)\")\n",
    "plt.show()"
   ]
  },
  {
   "cell_type": "markdown",
   "metadata": {},
   "source": [
    "Dobimo model neparametrične regresije, ki nam omogoča ekstrapolacijo v naslednja leta. Opazimo, da se negotovost (varianca) napovedi povečuje, s tem ko se oddaljujemo od podatkov."
   ]
  },
  {
   "cell_type": "markdown",
   "metadata": {},
   "source": [
    "### Kovariančne funkcije"
   ]
  },
  {
   "cell_type": "markdown",
   "metadata": {},
   "source": [
    "Kovariačne funkcije bistveno vplivajo na <i>obliko družine funkcij</i>, ki jih vzorčimo iz Gaussovega Procesa. Oglejmo si nekaj tipičnih primerov kovariačnih funkcij. Bodite pozorni na lastnosti družine funkcij."
   ]
  },
  {
   "cell_type": "code",
   "execution_count": null,
   "metadata": {
    "collapsed": false
   },
   "outputs": [],
   "source": [
    "kernels = [ GPy.kern.Linear, GPy.kern.RBF, GPy.kern.Brownian, GPy.kern.PeriodicExponential, GPy.kern.Poly]\n",
    "names = [\"linear\", \"exp\", \"brownian\", \"per_exp\", \"poly\"]\n",
    "\n",
    "fig, axes = plt.subplots(nrows=2, ncols=5, figsize=(14, 4)) \n",
    "for i, k, name in zip(range(5), kernels, names):\n",
    "    \n",
    "    # Narisi funkcijo kovariance\n",
    "    knl = k(input_dim=1)\n",
    "    knl.plot(x=1, ax=axes[0][i])\n",
    "    axes[0][i].set_xlabel(\"t, t'\")\n",
    "    axes[0][i].set_ylabel(\"k(t, t')\")\n",
    "    axes[0][i].set_title(name)\n",
    "    \n",
    "    # Narisi vzorce iz druzine funkcij\n",
    "    X = np.linspace(0, 10, 100).reshape((100, 1))\n",
    "    mu = np.zeros((100, ))\n",
    "    C = knl.K(X,X) \n",
    "    Z = np.random.multivariate_normal(mu,C,5)\n",
    "    for z in Z:\n",
    "        axes[1][i].plot(z)\n",
    "    \n",
    "fig.tight_layout()\n",
    "plt.show()"
   ]
  },
  {
   "cell_type": "markdown",
   "metadata": {},
   "source": [
    "Oglejmo si nekoliko bolj zanimiv signal. Spodnji podatki prikazujejo koncentracijo ogljikovega diosksida ($CO_2$) v ozračju od leta 1960."
   ]
  },
  {
   "cell_type": "code",
   "execution_count": null,
   "metadata": {
    "collapsed": true
   },
   "outputs": [],
   "source": [
    "co2 = Orange.data.Table(\"data/co2.csv\")\n",
    "\n",
    "n = len(co2)\n",
    "\n",
    "t = co2.X[:, 0].reshape((n, 1))\n",
    "x = co2.X[:, 2].reshape((n, 1)) \n",
    "x = x - x.mean()"
   ]
  },
  {
   "cell_type": "markdown",
   "metadata": {},
   "source": [
    "Opazimo sezonsko periodično spreminjanje signala, v kombinaciji z naraščajočim trendom."
   ]
  },
  {
   "cell_type": "code",
   "execution_count": null,
   "metadata": {
    "collapsed": false
   },
   "outputs": [],
   "source": [
    "plt.figure()\n",
    "plt.plot(t, x)\n",
    "plt.ylabel(\"$CO_2$\")\n",
    "plt.xlabel(\"t (mesec)\")\n",
    "plt.show()"
   ]
  },
  {
   "cell_type": "markdown",
   "metadata": {},
   "source": [
    "<font color=\"green\"><b>Naredi sam/a.</b></font> S seštevanjem kovariančnih funkcij poizkušaj modelirati podatke o koncetraciji $CO_2$. Poizkusi najto kombinacijo funkcij, ki najbolje ekstrapolirajo koncentracijo $CO_2$ v prihodnja leta."
   ]
  },
  {
   "cell_type": "code",
   "execution_count": null,
   "metadata": {
    "collapsed": false
   },
   "outputs": [],
   "source": [
    "kernel = GPy.kern.Poly(1, order=2) + GPy.kern.Linear(1, variances=1)\n",
    "model  = GPy.models.GPRegression(t, x, kernel, noise_var=0.1)\n",
    "model.optimize(messages=True)\n",
    "model.plot()\n",
    "plt.gca().set_xlim(200, 600)"
   ]
  }
 ],
 "metadata": {
  "kernelspec": {
   "display_name": "Python 3",
   "language": "python",
   "name": "python3"
  },
  "language_info": {
   "codemirror_mode": {
    "name": "ipython",
    "version": 3
   },
   "file_extension": ".py",
   "mimetype": "text/x-python",
   "name": "python",
   "nbconvert_exporter": "python",
   "pygments_lexer": "ipython3",
   "version": "3.6.0"
  }
 },
 "nbformat": 4,
 "nbformat_minor": 0
}
