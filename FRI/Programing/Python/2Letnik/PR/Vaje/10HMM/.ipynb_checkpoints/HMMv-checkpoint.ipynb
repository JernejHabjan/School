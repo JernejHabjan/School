{
 "cells": [
  {
   "cell_type": "markdown",
   "metadata": {},
   "source": [
    "# Skriti Markovi modeli"
   ]
  },
  {
   "cell_type": "markdown",
   "metadata": {
    "collapsed": true
   },
   "source": [
    "Model zapišemo s slovarjem slovarjev. Na primer, za metanje kovancev:"
   ]
  },
  {
   "cell_type": "markdown",
   "metadata": {},
   "source": [
    "![Loaded coin model.](figs/07-loaded-coin.jpg)"
   ]
  },
  {
   "cell_type": "code",
   "execution_count": 1,
   "metadata": {
    "collapsed": true
   },
   "outputs": [],
   "source": [
    "T = {\"F\": {\"F\": 0.95, \"L\": 0.05},\n",
    "     \"L\": {\"F\": 0.05, \"L\": 0.95}}\n",
    "E = {\"F\": {\"o\": 0.5, \"-\": 0.5},\n",
    "     \"L\": {\"o\": 0.7, \"-\": 0.3}}\n",
    "start = \"F\""
   ]
  },
  {
   "cell_type": "markdown",
   "metadata": {},
   "source": [
    "## Generiranje zaporedij"
   ]
  },
  {
   "cell_type": "markdown",
   "metadata": {},
   "source": [
    "<font color=\"green\"><b>Naredi sam/a.</b></font> Zapiši funkcijo generate_hmm_sequence, ki sprejme skriti Markov model in vrne zaporedje dolžine n (skrito in vidno zaporedje).\n",
    "\n",
    "Še prej zapišite funkcijo weighted_choice, ki na podlagi uteži (v vrednosti) naključno izbere vrednost (v ključu slovarja)."
   ]
  },
  {
   "cell_type": "code",
   "execution_count": 2,
   "metadata": {},
   "outputs": [],
   "source": [
    "import random\n",
    "random.seed(42)\n",
    "\n",
    "def weighted_choice(weighted_items):\n",
    "    rnd = random.random() * sum(weighted_items.values())\n",
    "    for i,v  in weighted_items.items():\n",
    "        rnd-=v\n",
    "        if(rnd <0):\n",
    "            return i\n",
    "\n",
    "    \"\"\"Random choice given the list of elements and their weights\"\"\"\n",
    "    \n"
   ]
  },
  {
   "cell_type": "markdown",
   "metadata": {},
   "source": [
    "Zdaj pa funkcijo generate_hmm_sequence:"
   ]
  },
  {
   "cell_type": "code",
   "execution_count": 3,
   "metadata": {},
   "outputs": [],
   "source": [
    "def generate_hmm_sequence(h, T, E, n):\n",
    "    \n",
    "    s = weighted_choice(E[h])#vzami verjetnosti vidnih simbolov ko si v stanju h\n",
    "    yield h,s\n",
    "    for _ in range(n-1): #preostanek\n",
    "        h = weighted_choice(T[h])#premakni se v naslednje skrito stanje\n",
    "        yield h, weighted_choice(E[h])\n",
    "    \n",
    "    \n",
    "    \"\"\"\n",
    "    HMM sequence given start state,\n",
    "    transition, emission matrix and sequence length\n",
    "    \n",
    "    return zip(hidden_path, visible_sequence)\n",
    "    \"\"\"\n",
    "    "
   ]
  },
  {
   "cell_type": "code",
   "execution_count": 4,
   "metadata": {},
   "outputs": [
    {
     "name": "stdout",
     "output_type": "stream",
     "text": [
      "L\n"
     ]
    }
   ],
   "source": [
    "print(weighted_choice({\"F\": 0.05, \"L\": 0.95}))"
   ]
  },
  {
   "cell_type": "markdown",
   "metadata": {},
   "source": [
    "Generiraj nekaj zaporedij različnih dolžin."
   ]
  },
  {
   "cell_type": "code",
   "execution_count": 5,
   "metadata": {},
   "outputs": [
    {
     "data": {
      "text/plain": [
       "[('F', 'o'), ('F', 'o'), ('F', '-'), ('F', 'o'), ('F', 'o')]"
      ]
     },
     "execution_count": 5,
     "metadata": {},
     "output_type": "execute_result"
    }
   ],
   "source": [
    "list(generate_hmm_sequence('F', T, E, 5))"
   ]
  },
  {
   "cell_type": "code",
   "execution_count": 6,
   "metadata": {},
   "outputs": [
    {
     "data": {
      "text/plain": [
       "[('F', 'o'),\n",
       " ('F', 'o'),\n",
       " ('F', '-'),\n",
       " ('F', 'o'),\n",
       " ('F', '-'),\n",
       " ('F', '-'),\n",
       " ('F', 'o'),\n",
       " ('F', '-'),\n",
       " ('F', 'o'),\n",
       " ('F', '-'),\n",
       " ('F', '-'),\n",
       " ('F', '-'),\n",
       " ('L', 'o'),\n",
       " ('L', '-'),\n",
       " ('L', '-'),\n",
       " ('L', '-'),\n",
       " ('F', 'o'),\n",
       " ('F', 'o'),\n",
       " ('F', 'o'),\n",
       " ('F', '-')]"
      ]
     },
     "execution_count": 6,
     "metadata": {},
     "output_type": "execute_result"
    }
   ],
   "source": [
    "list(generate_hmm_sequence('F', T, E, 20))"
   ]
  },
  {
   "cell_type": "markdown",
   "metadata": {},
   "source": [
    "Model poskusite uporabiti tudi na primeru goljufivega kazinoja:"
   ]
  },
  {
   "cell_type": "markdown",
   "metadata": {},
   "source": [
    "![Loaded dice model.](figs/07-loaded-dice.jpg)"
   ]
  },
  {
   "cell_type": "code",
   "execution_count": 7,
   "metadata": {
    "collapsed": true
   },
   "outputs": [],
   "source": [
    "A = A = [\"1\", \"2\", \"3\", \"4\", \"5\", \"6\"]\n",
    "E = {\"F\": {a: 1/6. for a in A},\n",
    "     \"L\": {a: 1/10 if a != \"6\" else 0.5 for a in A}}\n",
    "T = {\"F\": {\"F\": 0.95, \"L\": 0.05},\n",
    "     \"L\": {\"F\": 0.1, \"L\": 0.9}}\n",
    "start = \"F\""
   ]
  },
  {
   "cell_type": "code",
   "execution_count": 8,
   "metadata": {},
   "outputs": [
    {
     "data": {
      "text/plain": [
       "[('F', '3'), ('F', '2'), ('F', '6'), ('F', '4'), ('F', '5')]"
      ]
     },
     "execution_count": 8,
     "metadata": {},
     "output_type": "execute_result"
    }
   ],
   "source": [
    "list(generate_hmm_sequence('F', T, E, 5))"
   ]
  },
  {
   "cell_type": "code",
   "execution_count": 9,
   "metadata": {},
   "outputs": [
    {
     "data": {
      "text/plain": [
       "[('F', '1'),\n",
       " ('F', '6'),\n",
       " ('F', '4'),\n",
       " ('F', '6'),\n",
       " ('F', '2'),\n",
       " ('F', '2'),\n",
       " ('F', '2'),\n",
       " ('F', '6'),\n",
       " ('F', '4'),\n",
       " ('F', '6'),\n",
       " ('F', '2'),\n",
       " ('F', '4'),\n",
       " ('F', '4'),\n",
       " ('F', '3'),\n",
       " ('F', '6'),\n",
       " ('F', '1'),\n",
       " ('F', '1'),\n",
       " ('F', '5'),\n",
       " ('F', '1'),\n",
       " ('F', '6'),\n",
       " ('F', '6'),\n",
       " ('F', '1'),\n",
       " ('F', '5'),\n",
       " ('F', '2'),\n",
       " ('F', '1'),\n",
       " ('F', '3'),\n",
       " ('L', '6'),\n",
       " ('L', '6'),\n",
       " ('L', '6'),\n",
       " ('L', '3'),\n",
       " ('L', '6'),\n",
       " ('L', '6'),\n",
       " ('L', '6'),\n",
       " ('L', '1'),\n",
       " ('L', '1'),\n",
       " ('L', '6'),\n",
       " ('L', '4'),\n",
       " ('F', '6'),\n",
       " ('F', '1'),\n",
       " ('F', '1')]"
      ]
     },
     "execution_count": 9,
     "metadata": {},
     "output_type": "execute_result"
    }
   ],
   "source": [
    "list(generate_hmm_sequence('F', T, E, 40))"
   ]
  },
  {
   "cell_type": "markdown",
   "metadata": {},
   "source": [
    "## Gradnja modela iz podatkov\n",
    "\n",
    "Napišite funkcijo build_hmm, ki bo sprejela vidno in skrito zaporedje, ter vrnila skriti Markov model, slovarja T in E."
   ]
  },
  {
   "cell_type": "code",
   "execution_count": 18,
   "metadata": {},
   "outputs": [],
   "source": [
    "from collections import Counter, defaultdict\n",
    "\n",
    "def normalize(dic):\n",
    "    \n",
    "    for key, value in dic.items():\n",
    "        value /= len(dic.values())\n",
    "    return dic\n",
    "\n",
    "def build_hmm(h, x):\n",
    "    \n",
    "    \n",
    "    \n",
    "    #stejemo st pojavitev necesa\n",
    "    #stejemo stevilo izhodnih povezav necesa \n",
    "    \n",
    "    T =dict(defaultdict(int))\n",
    "    E =dict(defaultdict(int))\n",
    "    \n",
    "    \n",
    "    for i in range(len(x)-1):\n",
    "        T[x[0][x[i]]]+=1\n",
    "        \n",
    "        T[x[0]] = normalize(T[x[0]])\n",
    "        \n",
    "        \n",
    "    for i in range(len(x)):\n",
    "        T[x[0][x[i]]]+=1\n",
    "        T[x[0]] = normalize(T[x[0]])\n",
    "        \n",
    "    \n",
    "    \n",
    "\n",
    "    return T, E"
   ]
  },
  {
   "cell_type": "code",
   "execution_count": 11,
   "metadata": {},
   "outputs": [],
   "source": [
    "h, x = zip(*list(generate_hmm_sequence('F', T, E, 40)))"
   ]
  },
  {
   "cell_type": "code",
   "execution_count": 19,
   "metadata": {},
   "outputs": [
    {
     "ename": "TypeError",
     "evalue": "string indices must be integers",
     "output_type": "error",
     "traceback": [
      "\u001b[0;31m---------------------------------------------------------------------------\u001b[0m",
      "\u001b[0;31mTypeError\u001b[0m                                 Traceback (most recent call last)",
      "\u001b[0;32m<ipython-input-19-77bf466e1461>\u001b[0m in \u001b[0;36m<module>\u001b[0;34m()\u001b[0m\n\u001b[0;32m----> 1\u001b[0;31m \u001b[0mbuild_hmm\u001b[0m\u001b[1;33m(\u001b[0m\u001b[0mh\u001b[0m\u001b[1;33m,\u001b[0m \u001b[0mx\u001b[0m\u001b[1;33m)\u001b[0m\u001b[1;33m\u001b[0m\u001b[0m\n\u001b[0m",
      "\u001b[0;32m<ipython-input-18-b015a45760b6>\u001b[0m in \u001b[0;36mbuild_hmm\u001b[0;34m(h, x)\u001b[0m\n\u001b[1;32m     19\u001b[0m \u001b[1;33m\u001b[0m\u001b[0m\n\u001b[1;32m     20\u001b[0m     \u001b[1;32mfor\u001b[0m \u001b[0mi\u001b[0m \u001b[1;32min\u001b[0m \u001b[0mrange\u001b[0m\u001b[1;33m(\u001b[0m\u001b[0mlen\u001b[0m\u001b[1;33m(\u001b[0m\u001b[0mx\u001b[0m\u001b[1;33m)\u001b[0m\u001b[1;33m)\u001b[0m\u001b[1;33m:\u001b[0m\u001b[1;33m\u001b[0m\u001b[0m\n\u001b[0;32m---> 21\u001b[0;31m         \u001b[0mT\u001b[0m\u001b[1;33m[\u001b[0m\u001b[0mx\u001b[0m\u001b[1;33m[\u001b[0m\u001b[1;36m0\u001b[0m\u001b[1;33m]\u001b[0m\u001b[1;33m[\u001b[0m\u001b[0mx\u001b[0m\u001b[1;33m[\u001b[0m\u001b[0mi\u001b[0m\u001b[1;33m]\u001b[0m\u001b[1;33m]\u001b[0m\u001b[1;33m]\u001b[0m\u001b[1;33m+=\u001b[0m\u001b[1;36m1\u001b[0m\u001b[1;33m\u001b[0m\u001b[0m\n\u001b[0m\u001b[1;32m     22\u001b[0m \u001b[1;33m\u001b[0m\u001b[0m\n\u001b[1;32m     23\u001b[0m         \u001b[0mT\u001b[0m\u001b[1;33m[\u001b[0m\u001b[0mx\u001b[0m\u001b[1;33m[\u001b[0m\u001b[1;36m0\u001b[0m\u001b[1;33m]\u001b[0m\u001b[1;33m]\u001b[0m \u001b[1;33m=\u001b[0m \u001b[0mnormalize\u001b[0m\u001b[1;33m(\u001b[0m\u001b[0mT\u001b[0m\u001b[1;33m[\u001b[0m\u001b[0mx\u001b[0m\u001b[1;33m[\u001b[0m\u001b[1;36m0\u001b[0m\u001b[1;33m]\u001b[0m\u001b[1;33m]\u001b[0m\u001b[1;33m)\u001b[0m\u001b[1;33m\u001b[0m\u001b[0m\n",
      "\u001b[0;31mTypeError\u001b[0m: string indices must be integers"
     ]
    }
   ],
   "source": [
    "build_hmm(h, x)"
   ]
  },
  {
   "cell_type": "code",
   "execution_count": null,
   "metadata": {
    "collapsed": true
   },
   "outputs": [],
   "source": []
  }
 ],
 "metadata": {
  "kernelspec": {
   "display_name": "Python 3",
   "language": "python",
   "name": "python3"
  },
  "language_info": {
   "codemirror_mode": {
    "name": "ipython",
    "version": 3
   },
   "file_extension": ".py",
   "mimetype": "text/x-python",
   "name": "python",
   "nbconvert_exporter": "python",
   "pygments_lexer": "ipython3",
   "version": "3.6.0"
  }
 },
 "nbformat": 4,
 "nbformat_minor": 1
}
