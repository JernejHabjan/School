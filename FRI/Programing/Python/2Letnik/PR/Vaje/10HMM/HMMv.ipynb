{
 "cells": [
  {
   "cell_type": "markdown",
   "metadata": {},
   "source": [
    "# Skriti Markovi modeli"
   ]
  },
  {
   "cell_type": "markdown",
   "metadata": {
    "collapsed": true
   },
   "source": [
    "Model zapišemo s slovarjem slovarjev. Na primer, za metanje kovancev:"
   ]
  },
  {
   "cell_type": "markdown",
   "metadata": {},
   "source": [
    "![Loaded coin model.](figs/07-loaded-coin.jpg)"
   ]
  },
  {
   "cell_type": "code",
   "execution_count": 1,
   "metadata": {
    "collapsed": true
   },
   "outputs": [],
   "source": [
    "T = {\"F\": {\"F\": 0.95, \"L\": 0.05},\n",
    "     \"L\": {\"F\": 0.05, \"L\": 0.95}}\n",
    "E = {\"F\": {\"o\": 0.5, \"-\": 0.5},\n",
    "     \"L\": {\"o\": 0.7, \"-\": 0.3}}\n",
    "start = \"F\""
   ]
  },
  {
   "cell_type": "markdown",
   "metadata": {},
   "source": [
    "## Generiranje zaporedij"
   ]
  },
  {
   "cell_type": "markdown",
   "metadata": {},
   "source": [
    "<font color=\"green\"><b>Naredi sam/a.</b></font> Zapiši funkcijo generate_hmm_sequence, ki sprejme skriti Markov model in vrne zaporedje dolžine n (skrito in vidno zaporedje).\n",
    "\n",
    "Še prej zapišite funkcijo weighted_choice, ki na podlagi uteži (v vrednosti) naključno izbere vrednost (v ključu slovarja)."
   ]
  },
  {
   "cell_type": "code",
   "execution_count": 2,
   "metadata": {},
   "outputs": [],
   "source": [
    "import random\n",
    "random.seed(42)\n",
    "\n",
    "def weighted_choice(weighted_items):\n",
    "    rnd = random.random() * sum(weighted_items.values())\n",
    "    for i,v  in weighted_items.items():\n",
    "        rnd-=v\n",
    "        if(rnd <0):\n",
    "            return i\n",
    "\n",
    "    \"\"\"Random choice given the list of elements and their weights\"\"\"\n",
    "    \n"
   ]
  },
  {
   "cell_type": "markdown",
   "metadata": {},
   "source": [
    "Zdaj pa funkcijo generate_hmm_sequence:"
   ]
  },
  {
   "cell_type": "code",
   "execution_count": 3,
   "metadata": {},
   "outputs": [],
   "source": [
    "def generate_hmm_sequence(h, T, E, n):\n",
    "    \n",
    "    s = weighted_choice(E[h])#vzami verjetnosti vidnih simbolov ko si v stanju h\n",
    "    yield h,s\n",
    "    for _ in range(n-1): #preostanek\n",
    "        h = weighted_choice(T[h])#premakni se v naslednje skrito stanje\n",
    "        yield h, weighted_choice(E[h])\n",
    "    \n",
    "    \n",
    "    \"\"\"\n",
    "    HMM sequence given start state,\n",
    "    transition, emission matrix and sequence length\n",
    "    \n",
    "    return zip(hidden_path, visible_sequence)\n",
    "    \"\"\"\n",
    "    "
   ]
  },
  {
   "cell_type": "code",
   "execution_count": 4,
   "metadata": {},
   "outputs": [
    {
     "name": "stdout",
     "output_type": "stream",
     "text": [
      "L\n"
     ]
    }
   ],
   "source": [
    "print(weighted_choice({\"F\": 0.05, \"L\": 0.95}))"
   ]
  },
  {
   "cell_type": "markdown",
   "metadata": {},
   "source": [
    "Generiraj nekaj zaporedij različnih dolžin."
   ]
  },
  {
   "cell_type": "code",
   "execution_count": 5,
   "metadata": {},
   "outputs": [
    {
     "data": {
      "text/plain": [
       "[('F', 'o'), ('F', 'o'), ('F', '-'), ('F', 'o'), ('F', 'o')]"
      ]
     },
     "execution_count": 5,
     "metadata": {},
     "output_type": "execute_result"
    }
   ],
   "source": [
    "list(generate_hmm_sequence('F', T, E, 5))"
   ]
  },
  {
   "cell_type": "code",
   "execution_count": 6,
   "metadata": {},
   "outputs": [
    {
     "data": {
      "text/plain": [
       "[('F', 'o'),\n",
       " ('F', 'o'),\n",
       " ('F', '-'),\n",
       " ('F', 'o'),\n",
       " ('F', '-'),\n",
       " ('F', '-'),\n",
       " ('F', 'o'),\n",
       " ('F', '-'),\n",
       " ('F', 'o'),\n",
       " ('F', '-'),\n",
       " ('F', '-'),\n",
       " ('F', '-'),\n",
       " ('L', 'o'),\n",
       " ('L', '-'),\n",
       " ('L', '-'),\n",
       " ('L', '-'),\n",
       " ('F', 'o'),\n",
       " ('F', 'o'),\n",
       " ('F', 'o'),\n",
       " ('F', '-')]"
      ]
     },
     "execution_count": 6,
     "metadata": {},
     "output_type": "execute_result"
    }
   ],
   "source": [
    "list(generate_hmm_sequence('F', T, E, 20))"
   ]
  },
  {
   "cell_type": "markdown",
   "metadata": {},
   "source": [
    "Model poskusite uporabiti tudi na primeru goljufivega kazinoja:"
   ]
  },
  {
   "cell_type": "markdown",
   "metadata": {},
   "source": [
    "![Loaded dice model.](figs/07-loaded-dice.jpg)"
   ]
  },
  {
   "cell_type": "code",
   "execution_count": 7,
   "metadata": {
    "collapsed": true
   },
   "outputs": [],
   "source": [
    "A = A = [\"1\", \"2\", \"3\", \"4\", \"5\", \"6\"]\n",
    "E = {\"F\": {a: 1/6. for a in A},\n",
    "     \"L\": {a: 1/10 if a != \"6\" else 0.5 for a in A}}\n",
    "T = {\"F\": {\"F\": 0.95, \"L\": 0.05},\n",
    "     \"L\": {\"F\": 0.1, \"L\": 0.9}}\n",
    "start = \"F\""
   ]
  },
  {
   "cell_type": "code",
   "execution_count": 8,
   "metadata": {},
   "outputs": [
    {
     "data": {
      "text/plain": [
       "[('F', '3'), ('F', '2'), ('F', '6'), ('F', '4'), ('F', '5')]"
      ]
     },
     "execution_count": 8,
     "metadata": {},
     "output_type": "execute_result"
    }
   ],
   "source": [
    "list(generate_hmm_sequence('F', T, E, 5))"
   ]
  },
  {
   "cell_type": "code",
   "execution_count": 9,
   "metadata": {},
   "outputs": [
    {
     "data": {
      "text/plain": [
       "[('F', '1'),\n",
       " ('F', '6'),\n",
       " ('F', '4'),\n",
       " ('F', '6'),\n",
       " ('F', '2'),\n",
       " ('F', '2'),\n",
       " ('F', '2'),\n",
       " ('F', '6'),\n",
       " ('F', '4'),\n",
       " ('F', '6'),\n",
       " ('F', '2'),\n",
       " ('F', '4'),\n",
       " ('F', '4'),\n",
       " ('F', '3'),\n",
       " ('F', '6'),\n",
       " ('F', '1'),\n",
       " ('F', '1'),\n",
       " ('F', '5'),\n",
       " ('F', '1'),\n",
       " ('F', '6'),\n",
       " ('F', '6'),\n",
       " ('F', '1'),\n",
       " ('F', '5'),\n",
       " ('F', '2'),\n",
       " ('F', '1'),\n",
       " ('F', '3'),\n",
       " ('L', '6'),\n",
       " ('L', '6'),\n",
       " ('L', '6'),\n",
       " ('L', '3'),\n",
       " ('L', '6'),\n",
       " ('L', '6'),\n",
       " ('L', '6'),\n",
       " ('L', '1'),\n",
       " ('L', '1'),\n",
       " ('L', '6'),\n",
       " ('L', '4'),\n",
       " ('F', '6'),\n",
       " ('F', '1'),\n",
       " ('F', '1')]"
      ]
     },
     "execution_count": 9,
     "metadata": {},
     "output_type": "execute_result"
    }
   ],
   "source": [
    "list(generate_hmm_sequence('F', T, E, 40))"
   ]
  },
  {
   "cell_type": "markdown",
   "metadata": {},
   "source": [
    "## Gradnja modela iz podatkov\n",
    "\n",
    "Napišite funkcijo build_hmm, ki bo sprejela vidno in skrito zaporedje, ter vrnila skriti Markov model, slovarja T in E."
   ]
  },
  {
   "cell_type": "code",
   "execution_count": 30,
   "metadata": {},
   "outputs": [
    {
     "ename": "SyntaxError",
     "evalue": "invalid syntax (<ipython-input-30-b61f1052c692>, line 6)",
     "output_type": "error",
     "traceback": [
      "\u001b[0;36m  File \u001b[0;32m\"<ipython-input-30-b61f1052c692>\"\u001b[0;36m, line \u001b[0;32m6\u001b[0m\n\u001b[0;31m    return (k, dic[k]/s for k in dic)\u001b[0m\n\u001b[0m                          ^\u001b[0m\n\u001b[0;31mSyntaxError\u001b[0m\u001b[0;31m:\u001b[0m invalid syntax\n"
     ]
    }
   ],
   "source": [
    "from collections import Counter, defaultdict\n",
    "\n",
    "def normalize(dic):\n",
    "    \n",
    "    s = sum(dic.values())\n",
    "    return (k, dic[k]/s for k in dic)\n",
    "def build_hmm(h, x):\n",
    "    \n",
    "    \n",
    "    t = {}\n",
    "    \n",
    "    for (i,j), cn in Counter(zip(h, h[1:])).items():\n",
    "        t.setdefault(i,{}).setdefault(j,cn)\n",
    "    t = {}\n",
    "    for i,d in t.items():\n",
    "        T[i] = normalize(d)\n",
    "    \n",
    "    c = Counter(zip(h,x))\n",
    "    E = {}\n",
    "    for h in T.keys():\n",
    "        E[h]= normalize({xi:c((pi,xi)) for pi, xi in c if pi==h})\n",
    "    \n",
    "    \n",
    "    return T, E\n"
   ]
  },
  {
   "cell_type": "code",
   "execution_count": null,
   "metadata": {
    "collapsed": true
   },
   "outputs": [],
   "source": []
  },
  {
   "cell_type": "code",
   "execution_count": 11,
   "metadata": {},
   "outputs": [],
   "source": [
    "h, x = zip(*list(generate_hmm_sequence('F', T, E, 40)))"
   ]
  },
  {
   "cell_type": "code",
   "execution_count": 25,
   "metadata": {},
   "outputs": [
    {
     "name": "stdout",
     "output_type": "stream",
     "text": [
      "('F', 'F', 'F', 'F', 'F', 'F', 'F', 'L', 'L', 'L', 'L', 'L', 'F', 'F', 'F', 'F', 'F', 'F', 'F', 'F', 'F', 'F', 'F', 'L', 'L', 'L', 'L', 'L', 'L', 'L', 'L', 'L', 'L', 'L', 'L', 'L', 'L', 'L', 'L', 'L')\n",
      "('5', '1', '4', '6', '2', '5', '2', '6', '6', '3', '6', '3', '4', '6', '1', '5', '1', '4', '5', '2', '3', '3', '5', '1', '4', '3', '5', '3', '6', '6', '1', '6', '6', '2', '3', '1', '6', '6', '5', '6')\n"
     ]
    },
    {
     "ename": "TypeError",
     "evalue": "string indices must be integers",
     "output_type": "error",
     "traceback": [
      "\u001b[0;31m---------------------------------------------------------------------------\u001b[0m",
      "\u001b[0;31mTypeError\u001b[0m                                 Traceback (most recent call last)",
      "\u001b[0;32m<ipython-input-25-77bf466e1461>\u001b[0m in \u001b[0;36m<module>\u001b[0;34m()\u001b[0m\n\u001b[0;32m----> 1\u001b[0;31m \u001b[0mbuild_hmm\u001b[0m\u001b[1;33m(\u001b[0m\u001b[0mh\u001b[0m\u001b[1;33m,\u001b[0m \u001b[0mx\u001b[0m\u001b[1;33m)\u001b[0m\u001b[1;33m\u001b[0m\u001b[0m\n\u001b[0m",
      "\u001b[0;32m<ipython-input-24-d305658906a7>\u001b[0m in \u001b[0;36mbuild_hmm\u001b[0;34m(h, x)\u001b[0m\n\u001b[1;32m     19\u001b[0m     \u001b[0mprint\u001b[0m\u001b[1;33m(\u001b[0m\u001b[0mx\u001b[0m\u001b[1;33m)\u001b[0m\u001b[1;33m\u001b[0m\u001b[0m\n\u001b[1;32m     20\u001b[0m     \u001b[1;32mfor\u001b[0m \u001b[0mi\u001b[0m \u001b[1;32min\u001b[0m \u001b[0mrange\u001b[0m\u001b[1;33m(\u001b[0m\u001b[0mlen\u001b[0m\u001b[1;33m(\u001b[0m\u001b[0mx\u001b[0m\u001b[1;33m)\u001b[0m\u001b[1;33m-\u001b[0m\u001b[1;36m1\u001b[0m\u001b[1;33m)\u001b[0m\u001b[1;33m:\u001b[0m\u001b[1;33m\u001b[0m\u001b[0m\n\u001b[0;32m---> 21\u001b[0;31m         \u001b[0mT\u001b[0m\u001b[1;33m[\u001b[0m\u001b[0mx\u001b[0m\u001b[1;33m[\u001b[0m\u001b[1;36m0\u001b[0m\u001b[1;33m]\u001b[0m\u001b[1;33m[\u001b[0m\u001b[0mx\u001b[0m\u001b[1;33m[\u001b[0m\u001b[0mi\u001b[0m\u001b[1;33m]\u001b[0m\u001b[1;33m]\u001b[0m\u001b[1;33m]\u001b[0m\u001b[1;33m+=\u001b[0m\u001b[1;36m1\u001b[0m\u001b[1;33m\u001b[0m\u001b[0m\n\u001b[0m\u001b[1;32m     22\u001b[0m \u001b[1;33m\u001b[0m\u001b[0m\n\u001b[1;32m     23\u001b[0m         \u001b[0mT\u001b[0m\u001b[1;33m[\u001b[0m\u001b[0mx\u001b[0m\u001b[1;33m[\u001b[0m\u001b[1;36m0\u001b[0m\u001b[1;33m]\u001b[0m\u001b[1;33m]\u001b[0m \u001b[1;33m=\u001b[0m \u001b[0mnormalize\u001b[0m\u001b[1;33m(\u001b[0m\u001b[0mT\u001b[0m\u001b[1;33m[\u001b[0m\u001b[0mx\u001b[0m\u001b[1;33m[\u001b[0m\u001b[1;36m0\u001b[0m\u001b[1;33m]\u001b[0m\u001b[1;33m]\u001b[0m\u001b[1;33m)\u001b[0m\u001b[1;33m\u001b[0m\u001b[0m\n",
      "\u001b[0;31mTypeError\u001b[0m: string indices must be integers"
     ]
    }
   ],
   "source": [
    "build_hmm(h, x)"
   ]
  },
  {
   "cell_type": "code",
   "execution_count": null,
   "metadata": {
    "collapsed": true
   },
   "outputs": [],
   "source": []
  },
  {
   "cell_type": "code",
   "execution_count": null,
   "metadata": {
    "collapsed": true
   },
   "outputs": [],
   "source": []
  }
 ],
 "metadata": {
  "kernelspec": {
   "display_name": "Python 3",
   "language": "python",
   "name": "python3"
  },
  "language_info": {
   "codemirror_mode": {
    "name": "ipython",
    "version": 3
   },
   "file_extension": ".py",
   "mimetype": "text/x-python",
   "name": "python",
   "nbconvert_exporter": "python",
   "pygments_lexer": "ipython3",
   "version": "3.6.0"
  }
 },
 "nbformat": 4,
 "nbformat_minor": 1
}
