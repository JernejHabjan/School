{
 "cells": [
  {
   "cell_type": "markdown",
   "metadata": {},
   "source": [
    "## Odkrivanje skupin"
   ]
  },
  {
   "cell_type": "markdown",
   "metadata": {},
   "source": [
    "V današnji vaji bomo spoznali metode za <i>nenadzorovano modeliranje</i>. S pomočjo slednjih modeliramo strukturo v podatkih, ki je ne poznamo. Osrednja predpostavka je, da v podatkih obstajajo podmnožice, znotraj katerih so si podatki zelo podobni. "
   ]
  },
  {
   "cell_type": "code",
   "execution_count": 1,
   "metadata": {
    "collapsed": true
   },
   "outputs": [],
   "source": [
    "import numpy as np\n",
    "\n",
    "% matplotlib inline\n",
    "import matplotlib.pyplot as plt"
   ]
  },
  {
   "cell_type": "markdown",
   "metadata": {},
   "source": [
    "### Metoda K-means"
   ]
  },
  {
   "cell_type": "markdown",
   "metadata": {},
   "source": [
    "\n",
    "Metoda K povprečij (ang. <i>K-means clustering</i>) sodi med enostavnejše, vendar pogosto uporabljene metode nenadzorovanega algoritma. Pomembna prednost je tudi računska učinkovitost. Dodatne podrobnosti najdeš v <a href=\"http://www-users.cs.umn.edu/~kumar/dmbook/ch8.pdf\">literaturi</a>.\n",
    "\n",
    "Implementiraj algoritem za odkrivanje skupin z metodo K voditeljev. Pomagaj si z naslednjo psevdokodo."
   ]
  },
  {
   "cell_type": "markdown",
   "metadata": {},
   "source": [
    "<pre>\n",
    "    Naključno izberi <b>K</b> točk - centrov\n",
    "    <b>ponavljaj</b>\n",
    "        Vsaki točki določi najbližji center\n",
    "        Izračunaj nove centre - središča pripadajočih skupin\n",
    "    <b>dokler</b> se centri ne spreminjajo več.\n",
    "</pre>"
   ]
  },
  {
   "cell_type": "markdown",
   "metadata": {},
   "source": [
    "Razdaljo med točkama $\\vec{x} = (x_1, x_2, ... x_p)$ in $\\vec{y} = (y_1, y_2, ... y_p)$  izračunaj s pomočjo evklidske razdalje:\n",
    "\n",
    " $$\\|\\vec{x} - \\vec{y}\\| = \\sqrt{(x_1 - y_1)^2 + (x_2 - y_2)^2 + ... + (x_p-y_p)^2} $$"
   ]
  },
  {
   "cell_type": "markdown",
   "metadata": {},
   "source": [
    "<font color=\"Blue\"><b>Razmisli.</b></font> Kakšna je časovna zahtevnost algoritma v odvisnosti od števila primerov in števila atributov?\n",
    "\n"
   ]
  },
  {
   "cell_type": "code",
   "execution_count": 22,
   "metadata": {
    "collapsed": false
   },
   "outputs": [
    {
     "data": {
      "text/plain": [
       "5.8000000000000007"
      ]
     },
     "execution_count": 22,
     "metadata": {},
     "output_type": "execute_result"
    }
   ],
   "source": [
    "def distance(x, y):\n",
    "    \"\"\"\n",
    "    x, y: vectors (numpy arrays)\n",
    "    \"\"\"\n",
    "    return np.sqrt(np.sum(x - y)**2)\n",
    "    \n",
    "x = np.array([1, 4, 5, 7])\n",
    "y = np.array([1, 2, 5.1, 3.1])\n",
    "distance(x, y)"
   ]
  },
  {
   "cell_type": "code",
   "execution_count": 33,
   "metadata": {
    "collapsed": false
   },
   "outputs": [],
   "source": [
    "class KMeans:\n",
    "    \n",
    "    def __init__(self, k=10, max_iter=100):\n",
    "        \"\"\"\n",
    "        Initialize KMeans clustering model.\n",
    "        \n",
    "        :param k\n",
    "            Number of clusters.\n",
    "        :param max_iter\n",
    "            Maximum number of iterations.\n",
    "        \"\"\"\n",
    "        self.k         = k\n",
    "        self.max_iter  = max_iter    \n",
    "    \n",
    "    def fit(self, X):\n",
    "        \"\"\"\n",
    "        Fit the Kmeans model to data.\n",
    "        \n",
    "        :param X\n",
    "            Numpy array of shape (n, p)\n",
    "            n: number of data examples\n",
    "            p: number of features (attributes)\n",
    "        \n",
    "        :return \n",
    "            labels: array of shape (n, ), cluster labels (0..k-1)\n",
    "            centers: array of shape (k, p, )\n",
    "        \"\"\"\n",
    "        \n",
    "        n, p    = X.shape\n",
    "        labels  = np.random.choice(range(self.k), size=n, replace=True)\n",
    "        \n",
    "        # Choose k random data points for initial centers\n",
    "        centers = np.array([X[i] for i in np.random.choice(range(X.shape[0]), \n",
    "                                                   size=self.k)]) \n",
    "        \n",
    "        # TODO: implement the main loop\n",
    "        i = 0\n",
    "        while i < self.max_iter:\n",
    "               \n",
    "            # For each row (example), find its nearest cluster \n",
    "            for xi, x in enumerate(X):\n",
    "                #               0              1 \n",
    "                result = min([(distance(x, c), ci) for ci, c in enumerate(centers)])\n",
    "                labels[xi] = result[1]\n",
    "                \n",
    "            # Move centroids \n",
    "            # Update the location of each centroid to the center of corresponding\n",
    "            # points\n",
    "            for ci, c in enumerate(centers):\n",
    "                X_subset = X[labels == ci, :]\n",
    "                centers[ci, :] = X_subset.mean(axis=0)\n",
    "        \n",
    "            i = i + 1\n",
    "        \n",
    "        return labels, centers"
   ]
  },
  {
   "cell_type": "markdown",
   "metadata": {},
   "source": [
    "### Podatki\n",
    "\n",
    "Metodo testiramo na podatkovni zbirki <a href=\"https://en.wikipedia.org/wiki/Iris_flower_data_set\">Iris</a>, kjer za cvetlice v treh razredih merimo različne dimenzije cvetnih oz. venčnih listov. V podatkih najdemo tri gruče, približno takole. V rešitvi sta prikazana samo prva dva atributa, zato se gruče navidez prekrivajo.\n",
    "\n",
    "<table>\n",
    "<tr>\n",
    "<td><img src=\"iris.png\" width=\"300\"></img></td> \n",
    "<td><img src=\"resitev.png\" width=\"300\"></img></td>\n",
    "</tr>\n",
    "<table>\n"
   ]
  },
  {
   "cell_type": "code",
   "execution_count": 42,
   "metadata": {
    "collapsed": false,
    "scrolled": false
   },
   "outputs": [
    {
     "data": {
      "image/png": "[encoded data removed]",
      "text/plain": [
       "<matplotlib.figure.Figure at 0x10a517710>"
      ]
     },
     "metadata": {},
     "output_type": "display_data"
    }
   ],
   "source": [
    "from sklearn.datasets import load_iris\n",
    "data = load_iris()\n",
    "\n",
    "X             = data[\"data\"]\n",
    "true_clusters = data[\"target\"]\n",
    "\n",
    "# Testirajte razred KMeans\n",
    "\n",
    "# Trenutno so gruče dodeljene naključno\n",
    "model = KMeans(k=3, max_iter=10)\n",
    "labels, centers = model.fit(X[:, :3])\n",
    "\n",
    "\n",
    "\n",
    "plt.figure(figsize=(10, 10))\n",
    "color = {0:\"red\", 1:\"blue\", 2:\"yellow\"}\n",
    "\n",
    "for xi, x in zip(labels, X):\n",
    "    plt.plot(x[0], x[1], \".\", color=color[xi], markersize=6 * x[2])\n",
    "\n",
    "for ci, c in enumerate(centers):\n",
    "    plt.plot(c[0], c[1], \"s\", color=color[ci], markersize=30.0)\n",
    "    \n",
    "    \n",
    "plt.xlabel(\"Atribut 0\")\n",
    "plt.ylabel(\"Atribut 1\")\n",
    "plt.show()"
   ]
  },
  {
   "cell_type": "markdown",
   "metadata": {},
   "source": [
    "<font color=\"Green\"><b>Naredi sam/a.</b></font> Nariši stanje oznak in sredine skupin v vsaki iteraciji algoritma. "
   ]
  },
  {
   "cell_type": "code",
   "execution_count": null,
   "metadata": {
    "collapsed": true
   },
   "outputs": [],
   "source": [
    "# ..."
   ]
  },
  {
   "cell_type": "markdown",
   "metadata": {},
   "source": [
    "### Ocenjevanje uspešnosti odkrivanja skupin"
   ]
  },
  {
   "cell_type": "markdown",
   "metadata": {},
   "source": [
    "Ocenjevanje uspešnosti odkrivanja skupin je eden od nerešenih izzivov strojnega učenja. Poznamo mere kot sta <a href =\"http://scikit-learn.org/stable/auto_examples/cluster/plot_kmeans_silhouette_analysis.html\">silhueta</a>  ali <a href=\"http://scikit-learn.org/stable/modules/clustering.html#adjusted-rand-index\">metoda naključnih indeksov</a>.\n",
    "\n",
    "Druga možnost je, da poznamo resnične razrede, v katere spadajo podatki. To drži za podatkovno zbirko iris, kjer so cvetlice razporejene v tri razrede. \n",
    "\n",
    "<font color=\"Green\"><b>Naredi sam/a.</b></font> Preveri, kako dobro se rezultat tvoje metode ujema z resničnimi razredi? Na kakšen način boš izmeril/a ujemanje? Ali naletiš pri tem na kakšno težavo?"
   ]
  },
  {
   "cell_type": "code",
   "execution_count": 81,
   "metadata": {
    "collapsed": false
   },
   "outputs": [
    {
     "name": "stdout",
     "output_type": "stream",
     "text": [
      "[0 0 0 0 0 0 0 0 0 0 0 0 0 0 0 0 0 0 0 0 0 0 0 0 0 0 0 0 0 0 0 0 0 0 0 0 0\n",
      " 0 0 0 0 0 0 0 0 0 0 0 0 0 1 1 1 1 1 1 1 1 1 1 1 1 1 1 1 1 1 1 1 1 1 1 1 1\n",
      " 1 1 1 1 1 1 1 1 1 1 1 1 1 1 1 1 1 1 1 1 1 1 1 1 1 1 2 2 2 2 2 2 2 2 2 2 2\n",
      " 2 2 2 2 2 2 2 2 2 2 2 2 2 2 2 2 2 2 2 2 2 2 2 2 2 2 2 2 2 2 2 2 2 2 2 2 2\n",
      " 2 2]\n"
     ]
    }
   ],
   "source": [
    "print(true_clusters)   # Resnični razredi primerov"
   ]
  },
  {
   "cell_type": "markdown",
   "metadata": {},
   "source": [
    "<font color=\"Green\"><b>Naredi sam/a.</b></font> Preizkusi metodo na spodnjih, sintetičnih primerih podatkov. Kako se obnese metoda KMeans? Zakaj?"
   ]
  },
  {
   "cell_type": "code",
   "execution_count": 44,
   "metadata": {
    "collapsed": false
   },
   "outputs": [
    {
     "data": {
      "image/png": "[encoded data removed]",
      "text/plain": [
       "<matplotlib.figure.Figure at 0x10a3a5550>"
      ]
     },
     "metadata": {},
     "output_type": "display_data"
    }
   ],
   "source": [
    "from sklearn.datasets import make_circles, make_blobs, make_moons\n",
    "\n",
    "n_samples=1000\n",
    "noisy_circles, _ = make_circles(n_samples=n_samples, factor=.5, noise=.05)\n",
    "noisy_moons, _ = make_moons(n_samples=n_samples, noise=.05)\n",
    "blobs, _ = make_blobs(n_samples=n_samples, random_state=8)\n",
    "\n",
    "\n",
    "# fig, axes = plt.subplots(nrows=1, ncols=3, figsize=(10, 5))\n",
    "# axes[0].plot(noisy_circles[:, 0], noisy_circles[:, 1], \"r.\")\n",
    "# axes[1].plot(noisy_moons[:, 0], noisy_moons[:, 1], \"g.\")\n",
    "# axes[2].plot(blobs[:, 0], blobs[:, 1], \"b.\")\n",
    "# fig.tight_layout()\n",
    "# plt.show()\n",
    "\n",
    "\n",
    "X = noisy_circles\n",
    "model = KMeans(k=2, max_iter=20)\n",
    "labels, centers = model.fit(X)\n",
    "\n",
    "\n",
    "plt.figure(figsize=(10, 10))\n",
    "color = {0:\"red\", 1:\"blue\", 2:\"yellow\"}\n",
    "\n",
    "for xi, x in zip(labels, X):\n",
    "    plt.plot(x[0], x[1], \".\", color=color[xi])\n",
    "\n",
    "# for ci, c in enumerate(centers):\n",
    "#     plt.plot(c[0], c[1], \"s\", color=color[ci], markersize=30.0)\n",
    "    \n",
    "    \n",
    "plt.xlabel(\"Atribut 0\")\n",
    "plt.ylabel(\"Atribut 1\")\n",
    "plt.show()\n",
    "\n",
    "\n"
   ]
  },
  {
   "cell_type": "markdown",
   "metadata": {},
   "source": [
    "### Metoda DBSCAN"
   ]
  },
  {
   "cell_type": "markdown",
   "metadata": {},
   "source": [
    "<font color=\"Green\"><b>Naredi sam/a.</b></font> Preizkusi metodo <a href=\"http://scikit-learn.org/stable/modules/clustering.html#dbscan\">DBSCAN</a>. Ali se ta metoda na istih podatkih obnese kaj bolje? Zakaj? Odgovor najdeš v opisu metode."
   ]
  },
  {
   "cell_type": "code",
   "execution_count": 9,
   "metadata": {
    "collapsed": true
   },
   "outputs": [],
   "source": [
    "from sklearn.cluster import DBSCAN\n",
    "\n",
    "# model = DBSCAN(...)\n",
    "# model.fit(X)\n",
    "# labels = model.predict(X)"
   ]
  }
 ],
 "metadata": {
  "kernelspec": {
   "display_name": "Python 3",
   "language": "python",
   "name": "python3"
  },
  "language_info": {
   "codemirror_mode": {
    "name": "ipython",
    "version": 3
   },
   "file_extension": ".py",
   "mimetype": "text/x-python",
   "name": "python",
   "nbconvert_exporter": "python",
   "pygments_lexer": "ipython3",
   "version": "3.4.1"
  }
 },
 "nbformat": 4,
 "nbformat_minor": 0
}
